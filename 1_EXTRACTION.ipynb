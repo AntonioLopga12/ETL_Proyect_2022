{
 "cells": [
  {
   "cell_type": "markdown",
   "id": "342eed8d",
   "metadata": {},
   "source": [
    "### 1. Extraction"
   ]
  },
  {
   "cell_type": "code",
   "execution_count": null,
   "id": "05457c27",
   "metadata": {},
   "outputs": [],
   "source": []
  },
  {
   "cell_type": "markdown",
   "id": "65d8aa5a",
   "metadata": {},
   "source": [
    "##### Tools"
   ]
  },
  {
   "cell_type": "code",
   "execution_count": 36,
   "id": "7eb288af",
   "metadata": {},
   "outputs": [],
   "source": [
    "### Tools\n",
    "import requests as req\n",
    "from bs4 import BeautifulSoup as bs\n",
    "import pandas as pd\n",
    "from selenium import webdriver\n",
    "from webdriver_manager.chrome import ChromeDriverManager\n",
    "import warnings   # para quitar warnings\n",
    "from chromedriver_py import binary_path # this will get you the path variable\n",
    "import re"
   ]
  },
  {
   "cell_type": "markdown",
   "id": "f9d9d3d7",
   "metadata": {},
   "source": [
    "#### Selenium "
   ]
  },
  {
   "cell_type": "code",
   "execution_count": 2,
   "id": "3a05da30",
   "metadata": {
    "scrolled": false
   },
   "outputs": [],
   "source": [
    "#!pip install chromedriver-py"
   ]
  },
  {
   "cell_type": "code",
   "execution_count": 3,
   "id": "b473cb4c",
   "metadata": {},
   "outputs": [],
   "source": [
    "url = 'https://m.rbi.org.in/scripts/PublicationsView.aspx?id=20660'"
   ]
  },
  {
   "cell_type": "code",
   "execution_count": 4,
   "id": "d33b302c",
   "metadata": {},
   "outputs": [
    {
     "name": "stderr",
     "output_type": "stream",
     "text": [
      "\n",
      "\n",
      "====== WebDriver manager ======\n",
      "Current google-chrome version is 98.0.4758\n",
      "Get LATEST chromedriver version for 98.0.4758 google-chrome\n",
      "Driver [/Users/antoniolopez/.wdm/drivers/chromedriver/mac64/98.0.4758.80/chromedriver] found in cache\n"
     ]
    }
   ],
   "source": [
    "PATH=ChromeDriverManager().install() #PATH"
   ]
  },
  {
   "cell_type": "code",
   "execution_count": 5,
   "id": "efa134f4",
   "metadata": {},
   "outputs": [
    {
     "name": "stderr",
     "output_type": "stream",
     "text": [
      "/var/folders/xt/vx2zkv116hb1jvz92s1nlr2r0000gn/T/ipykernel_38933/1135884956.py:1: DeprecationWarning: executable_path has been deprecated, please pass in a Service object\n",
      "  driver = webdriver.Chrome(PATH) #Driver\n"
     ]
    }
   ],
   "source": [
    "driver = webdriver.Chrome(PATH) #Driver\n",
    "driver.get(url)"
   ]
  },
  {
   "cell_type": "code",
   "execution_count": 6,
   "id": "06056478",
   "metadata": {},
   "outputs": [
    {
     "name": "stderr",
     "output_type": "stream",
     "text": [
      "/var/folders/xt/vx2zkv116hb1jvz92s1nlr2r0000gn/T/ipykernel_38933/1913518297.py:1: DeprecationWarning: find_element_by_* commands are deprecated. Please use find_element() instead\n",
      "  Table = driver.find_element_by_xpath('//*[@id=\"doublescroll\"]/table[2]/tbody/tr[4]/td/table').text\n"
     ]
    }
   ],
   "source": [
    "Table = driver.find_element_by_xpath('//*[@id=\"doublescroll\"]/table[2]/tbody/tr[4]/td/table').text"
   ]
  },
  {
   "cell_type": "code",
   "execution_count": 7,
   "id": "ce260a15",
   "metadata": {},
   "outputs": [],
   "source": [
    "driver.quit()"
   ]
  },
  {
   "cell_type": "code",
   "execution_count": 22,
   "id": "18637648",
   "metadata": {
    "scrolled": true
   },
   "outputs": [
    {
     "data": {
      "text/plain": [
       "'(Thousands)\\nState/Union Territory 1951 1961 1971 1981 1991 2001 2011\\nAndaman and Nicobar Islands 31 64 115 189 281 356 381\\nAndhra Pradesh 31115 35983 43503 53551 66508 76210 84581\\nArunachal Pradesh - 337 468 632 865 1098 1384\\nAssam 8029 10837 14625 18041 22414 26656 31206\\nBihar 29085 34841 42126 52303 64531 82999 104099\\nChandigarh 24 120 257 452 642 901 1055\\nChhattisgarh 7457 9154 11637 14010 17615 20834 25545\\nDadra and Nagar Haveli 42 58 74 104 138 220 344\\nDaman and Diu 49 37 63 79 102 158 243\\nDelhi 1744 2659 4066 6220 9421 13851 16788\\nGoa 547 590 795 1008 1170 1348 1459\\nGujarat 16263 20633 26697 34086 41310 50671 60440\\nHaryana 5674 7591 10036 12922 16464 21145 25351\\nHimachal Pradesh 2386 2812 3460 4281 5171 6078 6865\\nJammu and Kashmir 3254 3561 4617 5987 7837 10144 12541\\nJharkhand 9697 11606 14227 17612 21844 26946 32988\\nKarnataka 19402 23587 29299 37136 44977 52851 61095\\nKerala 13549 16904 21347 25454 29099 31841 33406\\nLakshadweep 21 24 32 40 52 61 64\\nMadhya Pradesh 18615 23218 30017 38169 48566 60348 72627\\nMaharashtra 32003 39554 50412 62783 78937 96879 112374\\nManipur 578 780 1073 1421 1837 2294 2856\\nMeghalaya 606 769 1012 1336 1775 2319 2967\\nMizoram 196 266 332 494 690 889 1097\\nNagaland 213 369 516 775 1210 1990 1979\\nOdisha 14646 17549 21945 26370 31660 36805 41974\\nPuducherry 317 369 472 604 808 974 1248\\nPunjab 9161 11135 13551 16789 20282 24359 27743\\nRajasthan 15971 20156 25766 34262 44006 56507 68548\\nSikkim 138 162 210 316 406 541 611\\nTamil Nadu 30119 33687 41199 48408 55859 62406 72147\\nTripura 639 1142 1556 2053 2757 3199 3674\\nUttar Pradesh 60274 70144 83849 105137 132062 166198 199812\\nUttarakhand 2946 3611 4493 5726 7051 8489 10086\\nWest Bengal 26300 34926 44312 54581 68078 80176 91276\\nALL INDIA 361088 439235 548160 683329 846421 1028737 1210855\\n-: Not Available.\\nNotes: 1. In Arunachal Pradesh, the census was conducted for the first time in 1961.\\n2. The 1981 Census could not be held in Assam. Total Population for 1981 has been worked out by Interpolation.\\n3. The 1991 Census could not be held in Jammu and Kashmir. Total Population for 1991 has been worked out by Interpolation.\\n4. India and Manipur figures include estimated population for those of the three sub-divisions viz., Mao Maram, Paomata and Purul of Senapati district of Manipur as census result of 2001 in these three sub-divisions were cancelled due to technical and administrative reasons.\\n5. Efforts have been made to cover newly created States, wherever possible.\\nSource: Economic Survey, Government of India, various issues.'"
      ]
     },
     "execution_count": 22,
     "metadata": {},
     "output_type": "execute_result"
    }
   ],
   "source": [
    "Table"
   ]
  },
  {
   "cell_type": "code",
   "execution_count": 12,
   "id": "1304fdc2",
   "metadata": {},
   "outputs": [],
   "source": [
    "step_1_rep = Table.split('\\n') "
   ]
  },
  {
   "cell_type": "code",
   "execution_count": 38,
   "id": "3130c2bc",
   "metadata": {
    "scrolled": true
   },
   "outputs": [],
   "source": [
    "table_1 = [[step_1_rep[1:38][i]] for i in range(len(step_1_rep[1:38]))]"
   ]
  },
  {
   "cell_type": "code",
   "execution_count": 40,
   "id": "3cde619c",
   "metadata": {},
   "outputs": [
    {
     "data": {
      "text/plain": [
       "['Andaman and Nicobar Islands 31 64 115 189 281 356 381']"
      ]
     },
     "execution_count": 40,
     "metadata": {},
     "output_type": "execute_result"
    }
   ],
   "source": [
    "table_1[1]"
   ]
  },
  {
   "cell_type": "code",
   "execution_count": null,
   "id": "c7ccc41d",
   "metadata": {},
   "outputs": [],
   "source": [
    "#con regex atrapar los nombres de los paises y lo que siga introducirlo como key \n",
    "re.findall(\"[A-Z]\\w+\\/\\w+.+|[A-Z]\\w+.+\\'\", string)"
   ]
  },
  {
   "cell_type": "code",
   "execution_count": null,
   "id": "0ddd67c3",
   "metadata": {},
   "outputs": [],
   "source": [
    "table = {re.findall('',k):re.findall('',v) for k,v in zip(Table)}"
   ]
  },
  {
   "cell_type": "code",
   "execution_count": 72,
   "id": "e1ce6932",
   "metadata": {},
   "outputs": [],
   "source": [
    "countries = [''.join(re.sub(r'[^a-zA-Z]',' ' , i)) for i in step_1_rep[1:38]]\n",
    "# Using the method sub ( substitude) from Regex, we substitude all the numbers for a space, the space will be strip late on with the lstrip funtion."
   ]
  },
  {
   "cell_type": "code",
   "execution_count": 73,
   "id": "79540dc9",
   "metadata": {},
   "outputs": [],
   "source": [
    "countries = [s.rstrip() for s in countries] \n",
    "#Here countries are clean!"
   ]
  },
  {
   "cell_type": "code",
   "execution_count": 74,
   "id": "11a3476d",
   "metadata": {
    "scrolled": true
   },
   "outputs": [
    {
     "data": {
      "text/plain": [
       "['State Union Territory',\n",
       " 'Andaman and Nicobar Islands',\n",
       " 'Andhra Pradesh',\n",
       " 'Arunachal Pradesh',\n",
       " 'Assam',\n",
       " 'Bihar',\n",
       " 'Chandigarh',\n",
       " 'Chhattisgarh',\n",
       " 'Dadra and Nagar Haveli',\n",
       " 'Daman and Diu',\n",
       " 'Delhi',\n",
       " 'Goa',\n",
       " 'Gujarat',\n",
       " 'Haryana',\n",
       " 'Himachal Pradesh',\n",
       " 'Jammu and Kashmir',\n",
       " 'Jharkhand',\n",
       " 'Karnataka',\n",
       " 'Kerala',\n",
       " 'Lakshadweep',\n",
       " 'Madhya Pradesh',\n",
       " 'Maharashtra',\n",
       " 'Manipur',\n",
       " 'Meghalaya',\n",
       " 'Mizoram',\n",
       " 'Nagaland',\n",
       " 'Odisha',\n",
       " 'Puducherry',\n",
       " 'Punjab',\n",
       " 'Rajasthan',\n",
       " 'Sikkim',\n",
       " 'Tamil Nadu',\n",
       " 'Tripura',\n",
       " 'Uttar Pradesh',\n",
       " 'Uttarakhand',\n",
       " 'West Bengal',\n",
       " 'ALL INDIA']"
      ]
     },
     "execution_count": 74,
     "metadata": {},
     "output_type": "execute_result"
    }
   ],
   "source": [
    "countries"
   ]
  },
  {
   "cell_type": "code",
   "execution_count": 108,
   "id": "b3a2c5dc",
   "metadata": {},
   "outputs": [],
   "source": [
    "values = [''.join(re.findall(r'[^a-zA-Z\\/]', i)) for i in step_1_rep[1:38]]\n",
    "# Extract the values, and also exclude the '/' character."
   ]
  },
  {
   "cell_type": "code",
   "execution_count": 228,
   "id": "affc826f",
   "metadata": {},
   "outputs": [],
   "source": [
    "values_1 = [d.replace('-','0')for d in values]\n",
    "# Sustitude '-' for a cero."
   ]
  },
  {
   "cell_type": "code",
   "execution_count": 232,
   "id": "696f7654",
   "metadata": {},
   "outputs": [],
   "source": [
    "values_2 = [r.lstrip() for r in values_1]\n",
    "# Eliminate the left spaces "
   ]
  },
  {
   "cell_type": "code",
   "execution_count": 237,
   "id": "f84da8a7",
   "metadata": {},
   "outputs": [],
   "source": [
    "values_3 = [re.sub(' ',',',c) for c in values_2]\n",
    "# Substitude the spaces between the numbers with comas"
   ]
  },
  {
   "cell_type": "code",
   "execution_count": 239,
   "id": "24d4a16d",
   "metadata": {
    "scrolled": true
   },
   "outputs": [],
   "source": [
    "values_4 = [list(map(int,values_3[c].split(','))) for c in range(len(values_3))]\n",
    "# INCREDIBLYYYYY!!! we remove the single quotes of each list!!!"
   ]
  },
  {
   "cell_type": "code",
   "execution_count": 335,
   "id": "905584f5",
   "metadata": {},
   "outputs": [
    {
     "data": {
      "text/plain": [
       "[31, 64, 115, 189, 281, 356, 381]"
      ]
     },
     "execution_count": 335,
     "metadata": {},
     "output_type": "execute_result"
    }
   ],
   "source": [
    "values_4[1]"
   ]
  },
  {
   "cell_type": "code",
   "execution_count": 340,
   "id": "171849e8",
   "metadata": {
    "scrolled": true
   },
   "outputs": [
    {
     "ename": "SyntaxError",
     "evalue": "invalid syntax (3227225340.py, line 2)",
     "output_type": "error",
     "traceback": [
      "\u001b[0;36m  File \u001b[0;32m\"/var/folders/xt/vx2zkv116hb1jvz92s1nlr2r0000gn/T/ipykernel_38933/3227225340.py\"\u001b[0;36m, line \u001b[0;32m2\u001b[0m\n\u001b[0;31m    str(values_4[0])[1:-1]: print(i) for i in values_4[1:]}\u001b[0m\n\u001b[0m                                     ^\u001b[0m\n\u001b[0;31mSyntaxError\u001b[0m\u001b[0;31m:\u001b[0m invalid syntax\n"
     ]
    }
   ],
   "source": [
    "df_1 = {countries[0]:countries[1:],\n",
    "        str(values_4[0])[1:-1]: touple(i for i in values_4[1:]}"
   ]
  },
  {
   "cell_type": "code",
   "execution_count": 356,
   "id": "a218bfa2",
   "metadata": {},
   "outputs": [],
   "source": [
    "y = tuple(values_4[1:])\n"
   ]
  },
  {
   "cell_type": "code",
   "execution_count": 359,
   "id": "da4e5836",
   "metadata": {},
   "outputs": [],
   "source": [
    "def listToStringWithoutBrackets(list1):\n",
    "    return str(list1).replace('(','').replace(')','')"
   ]
  },
  {
   "cell_type": "code",
   "execution_count": 362,
   "id": "927feaa6",
   "metadata": {
    "scrolled": true
   },
   "outputs": [],
   "source": [
    "e = listToStringWithoutBrackets(y)"
   ]
  },
  {
   "cell_type": "code",
   "execution_count": 366,
   "id": "be15928a",
   "metadata": {},
   "outputs": [],
   "source": [
    "i = re.sub(\"'\",\" \",e)"
   ]
  },
  {
   "cell_type": "code",
   "execution_count": 375,
   "id": "c28cb7ad",
   "metadata": {},
   "outputs": [],
   "source": [
    "def rq(list1):\n",
    "    return dict('name',list1).replace(\"'\",'').replace(\"'\",'')"
   ]
  },
  {
   "cell_type": "code",
   "execution_count": 376,
   "id": "b11a0f77",
   "metadata": {},
   "outputs": [
    {
     "ename": "TypeError",
     "evalue": "dict expected at most 1 argument, got 2",
     "output_type": "error",
     "traceback": [
      "\u001b[0;31m---------------------------------------------------------------------------\u001b[0m",
      "\u001b[0;31mTypeError\u001b[0m                                 Traceback (most recent call last)",
      "\u001b[0;32m/var/folders/xt/vx2zkv116hb1jvz92s1nlr2r0000gn/T/ipykernel_38933/696184277.py\u001b[0m in \u001b[0;36m<module>\u001b[0;34m\u001b[0m\n\u001b[0;32m----> 1\u001b[0;31m \u001b[0mrq\u001b[0m\u001b[0;34m(\u001b[0m\u001b[0my\u001b[0m\u001b[0;34m)\u001b[0m\u001b[0;34m\u001b[0m\u001b[0;34m\u001b[0m\u001b[0m\n\u001b[0m",
      "\u001b[0;32m/var/folders/xt/vx2zkv116hb1jvz92s1nlr2r0000gn/T/ipykernel_38933/3343079378.py\u001b[0m in \u001b[0;36mrq\u001b[0;34m(list1)\u001b[0m\n\u001b[1;32m      1\u001b[0m \u001b[0;32mdef\u001b[0m \u001b[0mrq\u001b[0m\u001b[0;34m(\u001b[0m\u001b[0mlist1\u001b[0m\u001b[0;34m)\u001b[0m\u001b[0;34m:\u001b[0m\u001b[0;34m\u001b[0m\u001b[0;34m\u001b[0m\u001b[0m\n\u001b[0;32m----> 2\u001b[0;31m     \u001b[0;32mreturn\u001b[0m \u001b[0mdict\u001b[0m\u001b[0;34m(\u001b[0m\u001b[0;34m'name'\u001b[0m\u001b[0;34m,\u001b[0m\u001b[0mlist1\u001b[0m\u001b[0;34m)\u001b[0m\u001b[0;34m.\u001b[0m\u001b[0mreplace\u001b[0m\u001b[0;34m(\u001b[0m\u001b[0;34m\"'\"\u001b[0m\u001b[0;34m,\u001b[0m\u001b[0;34m''\u001b[0m\u001b[0;34m)\u001b[0m\u001b[0;34m.\u001b[0m\u001b[0mreplace\u001b[0m\u001b[0;34m(\u001b[0m\u001b[0;34m\"'\"\u001b[0m\u001b[0;34m,\u001b[0m\u001b[0;34m''\u001b[0m\u001b[0;34m)\u001b[0m\u001b[0;34m\u001b[0m\u001b[0;34m\u001b[0m\u001b[0m\n\u001b[0m",
      "\u001b[0;31mTypeError\u001b[0m: dict expected at most 1 argument, got 2"
     ]
    }
   ],
   "source": [
    "rq(y)"
   ]
  },
  {
   "cell_type": "code",
   "execution_count": 379,
   "id": "93e9c454",
   "metadata": {},
   "outputs": [
    {
     "data": {
      "text/plain": [
       "'[31, 64, 115, 189, 281, 356, 381], [31115, 35983, 43503, 53551, 66508, 76210, 84581], [0, 337, 468, 632, 865, 1098, 1384], [8029, 10837, 14625, 18041, 22414, 26656, 31206], [29085, 34841, 42126, 52303, 64531, 82999, 104099], [24, 120, 257, 452, 642, 901, 1055], [7457, 9154, 11637, 14010, 17615, 20834, 25545], [42, 58, 74, 104, 138, 220, 344], [49, 37, 63, 79, 102, 158, 243], [1744, 2659, 4066, 6220, 9421, 13851, 16788], [547, 590, 795, 1008, 1170, 1348, 1459], [16263, 20633, 26697, 34086, 41310, 50671, 60440], [5674, 7591, 10036, 12922, 16464, 21145, 25351], [2386, 2812, 3460, 4281, 5171, 6078, 6865], [3254, 3561, 4617, 5987, 7837, 10144, 12541], [9697, 11606, 14227, 17612, 21844, 26946, 32988], [19402, 23587, 29299, 37136, 44977, 52851, 61095], [13549, 16904, 21347, 25454, 29099, 31841, 33406], [21, 24, 32, 40, 52, 61, 64], [18615, 23218, 30017, 38169, 48566, 60348, 72627], [32003, 39554, 50412, 62783, 78937, 96879, 112374], [578, 780, 1073, 1421, 1837, 2294, 2856], [606, 769, 1012, 1336, 1775, 2319, 2967], [196, 266, 332, 494, 690, 889, 1097], [213, 369, 516, 775, 1210, 1990, 1979], [14646, 17549, 21945, 26370, 31660, 36805, 41974], [317, 369, 472, 604, 808, 974, 1248], [9161, 11135, 13551, 16789, 20282, 24359, 27743], [15971, 20156, 25766, 34262, 44006, 56507, 68548], [138, 162, 210, 316, 406, 541, 611], [30119, 33687, 41199, 48408, 55859, 62406, 72147], [639, 1142, 1556, 2053, 2757, 3199, 3674], [60274, 70144, 83849, 105137, 132062, 166198, 199812], [2946, 3611, 4493, 5726, 7051, 8489, 10086], [26300, 34926, 44312, 54581, 68078, 80176, 91276], [361088, 439235, 548160, 683329, 846421, 1028737, 1210855]'"
      ]
     },
     "execution_count": 379,
     "metadata": {},
     "output_type": "execute_result"
    }
   ],
   "source": [
    "e.strip(\"'\")"
   ]
  },
  {
   "cell_type": "code",
   "execution_count": 381,
   "id": "1d0cb2b0",
   "metadata": {},
   "outputs": [
    {
     "data": {
      "text/plain": [
       "[[31, 64, 115, 189, 281, 356, 381],\n",
       " [31115, 35983, 43503, 53551, 66508, 76210, 84581],\n",
       " [0, 337, 468, 632, 865, 1098, 1384],\n",
       " [8029, 10837, 14625, 18041, 22414, 26656, 31206],\n",
       " [29085, 34841, 42126, 52303, 64531, 82999, 104099],\n",
       " [24, 120, 257, 452, 642, 901, 1055],\n",
       " [7457, 9154, 11637, 14010, 17615, 20834, 25545],\n",
       " [42, 58, 74, 104, 138, 220, 344],\n",
       " [49, 37, 63, 79, 102, 158, 243],\n",
       " [1744, 2659, 4066, 6220, 9421, 13851, 16788],\n",
       " [547, 590, 795, 1008, 1170, 1348, 1459],\n",
       " [16263, 20633, 26697, 34086, 41310, 50671, 60440],\n",
       " [5674, 7591, 10036, 12922, 16464, 21145, 25351],\n",
       " [2386, 2812, 3460, 4281, 5171, 6078, 6865],\n",
       " [3254, 3561, 4617, 5987, 7837, 10144, 12541],\n",
       " [9697, 11606, 14227, 17612, 21844, 26946, 32988],\n",
       " [19402, 23587, 29299, 37136, 44977, 52851, 61095],\n",
       " [13549, 16904, 21347, 25454, 29099, 31841, 33406],\n",
       " [21, 24, 32, 40, 52, 61, 64],\n",
       " [18615, 23218, 30017, 38169, 48566, 60348, 72627],\n",
       " [32003, 39554, 50412, 62783, 78937, 96879, 112374],\n",
       " [578, 780, 1073, 1421, 1837, 2294, 2856],\n",
       " [606, 769, 1012, 1336, 1775, 2319, 2967],\n",
       " [196, 266, 332, 494, 690, 889, 1097],\n",
       " [213, 369, 516, 775, 1210, 1990, 1979],\n",
       " [14646, 17549, 21945, 26370, 31660, 36805, 41974],\n",
       " [317, 369, 472, 604, 808, 974, 1248],\n",
       " [9161, 11135, 13551, 16789, 20282, 24359, 27743],\n",
       " [15971, 20156, 25766, 34262, 44006, 56507, 68548],\n",
       " [138, 162, 210, 316, 406, 541, 611],\n",
       " [30119, 33687, 41199, 48408, 55859, 62406, 72147],\n",
       " [639, 1142, 1556, 2053, 2757, 3199, 3674],\n",
       " [60274, 70144, 83849, 105137, 132062, 166198, 199812],\n",
       " [2946, 3611, 4493, 5726, 7051, 8489, 10086],\n",
       " [26300, 34926, 44312, 54581, 68078, 80176, 91276],\n",
       " [361088, 439235, 548160, 683329, 846421, 1028737, 1210855]]"
      ]
     },
     "execution_count": 381,
     "metadata": {},
     "output_type": "execute_result"
    }
   ],
   "source": [
    "values_4[1:]"
   ]
  },
  {
   "cell_type": "code",
   "execution_count": null,
   "id": "f54fa82a",
   "metadata": {},
   "outputs": [],
   "source": []
  }
 ],
 "metadata": {
  "kernelspec": {
   "display_name": "ironhack",
   "language": "python",
   "name": "ironhack"
  },
  "language_info": {
   "codemirror_mode": {
    "name": "ipython",
    "version": 3
   },
   "file_extension": ".py",
   "mimetype": "text/x-python",
   "name": "python",
   "nbconvert_exporter": "python",
   "pygments_lexer": "ipython3",
   "version": "3.9.7"
  }
 },
 "nbformat": 4,
 "nbformat_minor": 5
}
