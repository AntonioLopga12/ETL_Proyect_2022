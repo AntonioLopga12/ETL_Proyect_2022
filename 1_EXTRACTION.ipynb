{
 "cells": [
  {
   "cell_type": "markdown",
   "id": "999d7e63",
   "metadata": {},
   "source": [
    "### 1. Extraction"
   ]
  },
  {
   "cell_type": "code",
   "execution_count": null,
   "id": "ca76aab9",
   "metadata": {},
   "outputs": [],
   "source": []
  },
  {
   "cell_type": "markdown",
   "id": "919f3b0b",
   "metadata": {},
   "source": [
    "##### Tools"
   ]
  },
  {
   "cell_type": "code",
   "execution_count": 1,
   "id": "00f3d5d5",
   "metadata": {},
   "outputs": [],
   "source": [
    "\n",
    "import requests as req\n",
    "import pandas as pd\n",
    "from selenium import webdriver\n",
    "from webdriver_manager.chrome import ChromeDriverManager\n",
    "import warnings   # para quitar warnings\n",
    "from chromedriver_py import binary_path # this will get you the path variable\n",
    "import re"
   ]
  },
  {
   "cell_type": "markdown",
   "id": "b7326997",
   "metadata": {},
   "source": [
    "#### 1st Method: Selenium "
   ]
  },
  {
   "cell_type": "code",
   "execution_count": 2,
   "id": "98a8aa96",
   "metadata": {
    "scrolled": false
   },
   "outputs": [],
   "source": [
    "#!pip install chromedriver-py"
   ]
  },
  {
   "cell_type": "code",
   "execution_count": 3,
   "id": "96bb0457",
   "metadata": {},
   "outputs": [],
   "source": [
    "url = 'https://m.rbi.org.in/scripts/PublicationsView.aspx?id=20660'"
   ]
  },
  {
   "cell_type": "code",
   "execution_count": 4,
   "id": "d53e47ed",
   "metadata": {},
   "outputs": [
    {
     "name": "stderr",
     "output_type": "stream",
     "text": [
      "\n",
      "\n",
      "====== WebDriver manager ======\n",
      "Current google-chrome version is 98.0.4758\n",
      "Get LATEST chromedriver version for 98.0.4758 google-chrome\n",
      "Driver [/Users/antoniolopez/.wdm/drivers/chromedriver/mac64/98.0.4758.80/chromedriver] found in cache\n"
     ]
    }
   ],
   "source": [
    "PATH=ChromeDriverManager().install() #PATH"
   ]
  },
  {
   "cell_type": "code",
   "execution_count": 5,
   "id": "1c58774b",
   "metadata": {},
   "outputs": [
    {
     "name": "stderr",
     "output_type": "stream",
     "text": [
      "/var/folders/xt/vx2zkv116hb1jvz92s1nlr2r0000gn/T/ipykernel_56995/1135884956.py:1: DeprecationWarning: executable_path has been deprecated, please pass in a Service object\n",
      "  driver = webdriver.Chrome(PATH) #Driver\n"
     ]
    }
   ],
   "source": [
    "driver = webdriver.Chrome(PATH) #Driver\n",
    "driver.get(url)"
   ]
  },
  {
   "cell_type": "code",
   "execution_count": 6,
   "id": "511cd529",
   "metadata": {},
   "outputs": [
    {
     "name": "stderr",
     "output_type": "stream",
     "text": [
      "/var/folders/xt/vx2zkv116hb1jvz92s1nlr2r0000gn/T/ipykernel_56995/1913518297.py:1: DeprecationWarning: find_element_by_* commands are deprecated. Please use find_element() instead\n",
      "  Table = driver.find_element_by_xpath('//*[@id=\"doublescroll\"]/table[2]/tbody/tr[4]/td/table').text\n"
     ]
    }
   ],
   "source": [
    "Table = driver.find_element_by_xpath('//*[@id=\"doublescroll\"]/table[2]/tbody/tr[4]/td/table').text"
   ]
  },
  {
   "cell_type": "code",
   "execution_count": 7,
   "id": "92c274e6",
   "metadata": {},
   "outputs": [],
   "source": [
    "driver.quit()"
   ]
  },
  {
   "cell_type": "code",
   "execution_count": 8,
   "id": "f2b1a1f7",
   "metadata": {
    "scrolled": true
   },
   "outputs": [
    {
     "data": {
      "text/plain": [
       "'Thou'"
      ]
     },
     "execution_count": 8,
     "metadata": {},
     "output_type": "execute_result"
    }
   ],
   "source": [
    "Table[1:5]"
   ]
  },
  {
   "cell_type": "code",
   "execution_count": 9,
   "id": "eb21bb84",
   "metadata": {},
   "outputs": [],
   "source": [
    "step_1 = Table.split('\\n') "
   ]
  },
  {
   "cell_type": "code",
   "execution_count": 10,
   "id": "0548697d",
   "metadata": {},
   "outputs": [],
   "source": [
    "States_1 = [''.join(re.sub(r'[^a-zA-Z]',' ' , i)) for i in step_1[1:38]]\n",
    "# Extract States ----Using the method sub ( substitude) from Regex, we substitude all the numbers for a space, the space will be strip late on with the lstrip funtion."
   ]
  },
  {
   "cell_type": "code",
   "execution_count": 11,
   "id": "04276aa8",
   "metadata": {},
   "outputs": [],
   "source": [
    "States_2 = [s.rstrip() for s in States_1] \n",
    "#Here countries are clean!"
   ]
  },
  {
   "cell_type": "code",
   "execution_count": 12,
   "id": "9ff1636a",
   "metadata": {
    "scrolled": true
   },
   "outputs": [
    {
     "data": {
      "text/plain": [
       "['Andaman and Nicobar Islands',\n",
       " 'Andhra Pradesh',\n",
       " 'Arunachal Pradesh',\n",
       " 'Assam',\n",
       " 'Bihar',\n",
       " 'Chandigarh',\n",
       " 'Chhattisgarh',\n",
       " 'Dadra and Nagar Haveli',\n",
       " 'Daman and Diu',\n",
       " 'Delhi',\n",
       " 'Goa',\n",
       " 'Gujarat',\n",
       " 'Haryana',\n",
       " 'Himachal Pradesh',\n",
       " 'Jammu and Kashmir',\n",
       " 'Jharkhand',\n",
       " 'Karnataka',\n",
       " 'Kerala',\n",
       " 'Lakshadweep',\n",
       " 'Madhya Pradesh',\n",
       " 'Maharashtra',\n",
       " 'Manipur',\n",
       " 'Meghalaya',\n",
       " 'Mizoram',\n",
       " 'Nagaland',\n",
       " 'Odisha',\n",
       " 'Puducherry',\n",
       " 'Punjab',\n",
       " 'Rajasthan',\n",
       " 'Sikkim',\n",
       " 'Tamil Nadu',\n",
       " 'Tripura',\n",
       " 'Uttar Pradesh',\n",
       " 'Uttarakhand',\n",
       " 'West Bengal']"
      ]
     },
     "execution_count": 12,
     "metadata": {},
     "output_type": "execute_result"
    }
   ],
   "source": [
    "States_2[1:-1]"
   ]
  },
  {
   "cell_type": "code",
   "execution_count": 13,
   "id": "12c41dd3",
   "metadata": {},
   "outputs": [],
   "source": [
    "values = [''.join(re.findall(r'[^a-zA-Z\\/]', i)) for i in step_1[1:38]]\n",
    "# Extract the values-----, and also exclude the '/' character."
   ]
  },
  {
   "cell_type": "code",
   "execution_count": 14,
   "id": "4eb20635",
   "metadata": {},
   "outputs": [],
   "source": [
    "values_1 = [d.replace('-','0')for d in values]\n",
    "# Sustitude '-' for a cero."
   ]
  },
  {
   "cell_type": "code",
   "execution_count": 15,
   "id": "644290da",
   "metadata": {},
   "outputs": [],
   "source": [
    "values_2 = [r.lstrip() for r in values_1]\n",
    "# Eliminate the left spaces "
   ]
  },
  {
   "cell_type": "code",
   "execution_count": 16,
   "id": "474f55b1",
   "metadata": {},
   "outputs": [],
   "source": [
    "values_3 = [re.sub(' ',',',c) for c in values_2]\n",
    "# Substitude the spaces between the numbers with comas"
   ]
  },
  {
   "cell_type": "code",
   "execution_count": 17,
   "id": "fd227ed9",
   "metadata": {
    "scrolled": true
   },
   "outputs": [],
   "source": [
    "values_4 = [list(map(int,values_3[c].split(','))) for c in range(len(values_3))]\n",
    "# INCREDIBLYYYYY!!! we remove the single quotes of each list!!!\n",
    "#I tried to use map function with out a converting it into a list, buuut, to unpack map objects it seems that need to be converted into list."
   ]
  },
  {
   "cell_type": "code",
   "execution_count": 18,
   "id": "bbff7c50",
   "metadata": {
    "scrolled": true
   },
   "outputs": [
    {
     "data": {
      "text/plain": [
       "[31115, 35983, 43503, 53551, 66508, 76210, 84581]"
      ]
     },
     "execution_count": 18,
     "metadata": {},
     "output_type": "execute_result"
    }
   ],
   "source": [
    "values_4[2]"
   ]
  },
  {
   "cell_type": "code",
   "execution_count": 19,
   "id": "664c2a06",
   "metadata": {},
   "outputs": [],
   "source": [
    "values_5 = tuple(values_4[1:])"
   ]
  },
  {
   "cell_type": "code",
   "execution_count": 20,
   "id": "ffd87983",
   "metadata": {},
   "outputs": [],
   "source": [
    "def db(list1):\n",
    "    return str(list1).replace('(','').replace(')','')"
   ]
  },
  {
   "cell_type": "code",
   "execution_count": 21,
   "id": "b3087470",
   "metadata": {},
   "outputs": [],
   "source": [
    "Test_1 = db(values_5) # porque me permite copiar el data set (directamente de aqui), pero si lo copio de una lista de lista no me lo permite??"
   ]
  },
  {
   "cell_type": "code",
   "execution_count": 22,
   "id": "c8be63c3",
   "metadata": {},
   "outputs": [],
   "source": [
    "values_6 = [31, 64, 115, 189, 281, 356, 381], [31115, 35983, 43503, 53551, 66508, 76210, 84581], [0, 337, 468, 632, 865, 1098, 1384], [8029, 10837, 14625, 18041, 22414, 26656, 31206], [29085, 34841, 42126, 52303, 64531, 82999, 104099], [24, 120, 257, 452, 642, 901, 1055], [7457, 9154, 11637, 14010, 17615, 20834, 25545], [42, 58, 74, 104, 138, 220, 344], [49, 37, 63, 79, 102, 158, 243], [1744, 2659, 4066, 6220, 9421, 13851, 16788], [547, 590, 795, 1008, 1170, 1348, 1459], [16263, 20633, 26697, 34086, 41310, 50671, 60440], [5674, 7591, 10036, 12922, 16464, 21145, 25351], [2386, 2812, 3460, 4281, 5171, 6078, 6865], [3254, 3561, 4617, 5987, 7837, 10144, 12541], [9697, 11606, 14227, 17612, 21844, 26946, 32988], [19402, 23587, 29299, 37136, 44977, 52851, 61095], [13549, 16904, 21347, 25454, 29099, 31841, 33406], [21, 24, 32, 40, 52, 61, 64], [18615, 23218, 30017, 38169, 48566, 60348, 72627], [32003, 39554, 50412, 62783, 78937, 96879, 112374], [578, 780, 1073, 1421, 1837, 2294, 2856], [606, 769, 1012, 1336, 1775, 2319, 2967], [196, 266, 332, 494, 690, 889, 1097], [213, 369, 516, 775, 1210, 1990, 1979], [14646, 17549, 21945, 26370, 31660, 36805, 41974], [317, 369, 472, 604, 808, 974, 1248], [9161, 11135, 13551, 16789, 20282, 24359, 27743], [15971, 20156, 25766, 34262, 44006, 56507, 68548], [138, 162, 210, 316, 406, 541, 611], [30119, 33687, 41199, 48408, 55859, 62406, 72147], [639, 1142, 1556, 2053, 2757, 3199, 3674], [60274, 70144, 83849, 105137, 132062, 166198, 199812], [2946, 3611, 4493, 5726, 7051, 8489, 10086], [26300, 34926, 44312, 54581, 68078, 80176, 91276], [361088, 439235, 548160, 683329, 846421, 1028737, 1210855]"
   ]
  },
  {
   "cell_type": "code",
   "execution_count": 23,
   "id": "83a988a1",
   "metadata": {
    "scrolled": true
   },
   "outputs": [],
   "source": [
    "df_c = pd.DataFrame({'States':States_2[1:-1]})"
   ]
  },
  {
   "cell_type": "code",
   "execution_count": 24,
   "id": "9f1dd48e",
   "metadata": {},
   "outputs": [],
   "source": [
    "df_n = pd.DataFrame({'years': values_6}) "
   ]
  },
  {
   "cell_type": "code",
   "execution_count": 25,
   "id": "d58ef287",
   "metadata": {},
   "outputs": [],
   "source": [
    "df_n_1 = df_n.years.apply(pd.Series)\n",
    "# To covert the lists in different columns!! INFUCKING CREDIBLE"
   ]
  },
  {
   "cell_type": "code",
   "execution_count": 26,
   "id": "f51928f6",
   "metadata": {},
   "outputs": [],
   "source": [
    "df_n_1.columns = ['1951', '1961','1971', '1981', '1991', '2001', '2011']"
   ]
  },
  {
   "cell_type": "markdown",
   "id": "7c9f6554",
   "metadata": {},
   "source": [
    "**Multiply the population by 1000, since the data came reduced:**"
   ]
  },
  {
   "cell_type": "markdown",
   "id": "d4624ba9",
   "metadata": {},
   "source": [
    "It hasn't been applied, but it could at any time.\n",
    "* df_n_1[df_n_1.select_dtypes(include=['number']).columns] *= 1000"
   ]
  },
  {
   "cell_type": "code",
   "execution_count": null,
   "id": "4cfbb4e3",
   "metadata": {},
   "outputs": [],
   "source": []
  },
  {
   "cell_type": "code",
   "execution_count": null,
   "id": "10722c87",
   "metadata": {},
   "outputs": [],
   "source": [
    "df_n_1.sample()"
   ]
  },
  {
   "cell_type": "code",
   "execution_count": 27,
   "id": "198dab56",
   "metadata": {},
   "outputs": [],
   "source": [
    "df_n_1.to_csv('DF_India_Population_Extrac.csv',index=False)"
   ]
  },
  {
   "cell_type": "code",
   "execution_count": 28,
   "id": "2f3e404d",
   "metadata": {},
   "outputs": [],
   "source": [
    "df_c.to_csv('DF_India_States.csv',index=False)"
   ]
  },
  {
   "cell_type": "markdown",
   "id": "1e56e9fa",
   "metadata": {},
   "source": [
    "#### 2nd Method: Panda's Library"
   ]
  },
  {
   "cell_type": "markdown",
   "id": "84081d85",
   "metadata": {},
   "source": [
    "#### Tools:"
   ]
  },
  {
   "cell_type": "code",
   "execution_count": 36,
   "id": "7d530ce6",
   "metadata": {},
   "outputs": [],
   "source": [
    "data_ec = pd.read_html('https://en.wikipedia.org/wiki/List_of_Indian_states_and_union_territories_by_GDP_per_capita',skiprows=0)[4]"
   ]
  },
  {
   "cell_type": "code",
   "execution_count": 37,
   "id": "18a5983d",
   "metadata": {},
   "outputs": [],
   "source": [
    "data_copy = data_ec.copy()"
   ]
  },
  {
   "cell_type": "code",
   "execution_count": 38,
   "id": "bc275841",
   "metadata": {
    "scrolled": false
   },
   "outputs": [],
   "source": [
    "df_economy = pd.DataFrame(data_ec)"
   ]
  },
  {
   "cell_type": "code",
   "execution_count": 39,
   "id": "25021b01",
   "metadata": {},
   "outputs": [
    {
     "data": {
      "text/html": [
       "<div>\n",
       "<style scoped>\n",
       "    .dataframe tbody tr th:only-of-type {\n",
       "        vertical-align: middle;\n",
       "    }\n",
       "\n",
       "    .dataframe tbody tr th {\n",
       "        vertical-align: top;\n",
       "    }\n",
       "\n",
       "    .dataframe thead th {\n",
       "        text-align: right;\n",
       "    }\n",
       "</style>\n",
       "<table border=\"1\" class=\"dataframe\">\n",
       "  <thead>\n",
       "    <tr style=\"text-align: right;\">\n",
       "      <th></th>\n",
       "      <th>Rank</th>\n",
       "    </tr>\n",
       "  </thead>\n",
       "  <tbody>\n",
       "    <tr>\n",
       "      <th>count</th>\n",
       "      <td>33.00000</td>\n",
       "    </tr>\n",
       "    <tr>\n",
       "      <th>mean</th>\n",
       "      <td>17.00000</td>\n",
       "    </tr>\n",
       "    <tr>\n",
       "      <th>std</th>\n",
       "      <td>9.66954</td>\n",
       "    </tr>\n",
       "    <tr>\n",
       "      <th>min</th>\n",
       "      <td>1.00000</td>\n",
       "    </tr>\n",
       "    <tr>\n",
       "      <th>25%</th>\n",
       "      <td>9.00000</td>\n",
       "    </tr>\n",
       "    <tr>\n",
       "      <th>50%</th>\n",
       "      <td>17.00000</td>\n",
       "    </tr>\n",
       "    <tr>\n",
       "      <th>75%</th>\n",
       "      <td>25.00000</td>\n",
       "    </tr>\n",
       "    <tr>\n",
       "      <th>max</th>\n",
       "      <td>33.00000</td>\n",
       "    </tr>\n",
       "  </tbody>\n",
       "</table>\n",
       "</div>"
      ],
      "text/plain": [
       "           Rank\n",
       "count  33.00000\n",
       "mean   17.00000\n",
       "std     9.66954\n",
       "min     1.00000\n",
       "25%     9.00000\n",
       "50%    17.00000\n",
       "75%    25.00000\n",
       "max    33.00000"
      ]
     },
     "execution_count": 39,
     "metadata": {},
     "output_type": "execute_result"
    }
   ],
   "source": [
    "df_economy.describe()"
   ]
  },
  {
   "cell_type": "code",
   "execution_count": 40,
   "id": "cb1dcbce",
   "metadata": {
    "scrolled": true
   },
   "outputs": [
    {
     "data": {
      "text/plain": [
       "Index(['Rank', 'State/Union territory', 'NSDP Per Capita (Nominal)1996–97[4]',\n",
       "       'NSDP Per Capita (Nominal)2000–01[4]',\n",
       "       'NSDP Per Capita (Nominal)2005–06[4]',\n",
       "       'NSDP Per Capita (Nominal)2010–11[4]', 'Growth from 2000–2010'],\n",
       "      dtype='object')"
      ]
     },
     "execution_count": 40,
     "metadata": {},
     "output_type": "execute_result"
    }
   ],
   "source": [
    "df_economy.columns"
   ]
  },
  {
   "cell_type": "code",
   "execution_count": 41,
   "id": "1a2431c1",
   "metadata": {},
   "outputs": [],
   "source": [
    "lista_col = [col.replace(' ','_').lower() for col in df_economy.columns]"
   ]
  },
  {
   "cell_type": "code",
   "execution_count": null,
   "id": "eb3dded5",
   "metadata": {},
   "outputs": [],
   "source": []
  },
  {
   "cell_type": "code",
   "execution_count": 42,
   "id": "ac3b62e0",
   "metadata": {},
   "outputs": [],
   "source": [
    "df_economy.columns = lista_col"
   ]
  },
  {
   "cell_type": "code",
   "execution_count": 43,
   "id": "3c569b04",
   "metadata": {
    "scrolled": false
   },
   "outputs": [
    {
     "data": {
      "text/html": [
       "<div>\n",
       "<style scoped>\n",
       "    .dataframe tbody tr th:only-of-type {\n",
       "        vertical-align: middle;\n",
       "    }\n",
       "\n",
       "    .dataframe tbody tr th {\n",
       "        vertical-align: top;\n",
       "    }\n",
       "\n",
       "    .dataframe thead th {\n",
       "        text-align: right;\n",
       "    }\n",
       "</style>\n",
       "<table border=\"1\" class=\"dataframe\">\n",
       "  <thead>\n",
       "    <tr style=\"text-align: right;\">\n",
       "      <th></th>\n",
       "      <th>rank</th>\n",
       "      <th>state/union_territory</th>\n",
       "      <th>nsdp_per_capita_(nominal)1996–97[4]</th>\n",
       "      <th>nsdp_per_capita_(nominal)2000–01[4]</th>\n",
       "      <th>nsdp_per_capita_(nominal)2005–06[4]</th>\n",
       "      <th>nsdp_per_capita_(nominal)2010–11[4]</th>\n",
       "      <th>growth_from_2000–2010</th>\n",
       "    </tr>\n",
       "  </thead>\n",
       "  <tbody>\n",
       "    <tr>\n",
       "      <th>4</th>\n",
       "      <td>5</td>\n",
       "      <td>Haryana</td>\n",
       "      <td>₹ 16,611</td>\n",
       "      <td>₹ 25,583</td>\n",
       "      <td>₹ 42,309</td>\n",
       "      <td>₹ 93,852</td>\n",
       "      <td>266%</td>\n",
       "    </tr>\n",
       "  </tbody>\n",
       "</table>\n",
       "</div>"
      ],
      "text/plain": [
       "   rank state/union_territory nsdp_per_capita_(nominal)1996–97[4]  \\\n",
       "4     5               Haryana                            ₹ 16,611   \n",
       "\n",
       "  nsdp_per_capita_(nominal)2000–01[4] nsdp_per_capita_(nominal)2005–06[4]  \\\n",
       "4                            ₹ 25,583                            ₹ 42,309   \n",
       "\n",
       "  nsdp_per_capita_(nominal)2010–11[4] growth_from_2000–2010  \n",
       "4                            ₹ 93,852                  266%  "
      ]
     },
     "execution_count": 43,
     "metadata": {},
     "output_type": "execute_result"
    }
   ],
   "source": [
    "df_economy.sample()"
   ]
  },
  {
   "cell_type": "markdown",
   "id": "5f96ea4e",
   "metadata": {},
   "source": [
    "#### 2. NSDP ( Net state domestic product) PER CAPITA INDIA.\n",
    "* ***Indian Rupee***, conversion to Euros, 1€  = 85.468 ₹. or 1₹ =  0.0116941€"
   ]
  },
  {
   "cell_type": "code",
   "execution_count": 44,
   "id": "cb30c316",
   "metadata": {},
   "outputs": [
    {
     "data": {
      "text/plain": [
       "Index(['rank', 'state/union_territory', 'nsdp_per_capita_(nominal)1996–97[4]',\n",
       "       'nsdp_per_capita_(nominal)2000–01[4]',\n",
       "       'nsdp_per_capita_(nominal)2005–06[4]',\n",
       "       'nsdp_per_capita_(nominal)2010–11[4]', 'growth_from_2000–2010'],\n",
       "      dtype='object')"
      ]
     },
     "execution_count": 44,
     "metadata": {},
     "output_type": "execute_result"
    }
   ],
   "source": [
    "df_economy.columns"
   ]
  },
  {
   "cell_type": "code",
   "execution_count": 45,
   "id": "340aa991",
   "metadata": {},
   "outputs": [],
   "source": [
    "df_economy.rename(columns={'state/union_territory':'State','nsdp_per_capita_(nominal)1996–97[4]':'1996_to_1997','nsdp_per_capita_(nominal)2000–01[4]':'2000_to_2001','nsdp_per_capita_(nominal)2005–06[4]':'2005_to_2006','nsdp_per_capita_(nominal)2010–11[4]':'2010_to_2011','growth_from_2000–2010':'Growth_from_2000_to_2010'},inplace=True)\n"
   ]
  },
  {
   "cell_type": "code",
   "execution_count": 46,
   "id": "289a1eab",
   "metadata": {},
   "outputs": [],
   "source": [
    "df_economy.drop(['rank'],axis=1,inplace=True)"
   ]
  },
  {
   "cell_type": "code",
   "execution_count": 47,
   "id": "dcf0a35e",
   "metadata": {
    "scrolled": true
   },
   "outputs": [
    {
     "data": {
      "text/html": [
       "<div>\n",
       "<style scoped>\n",
       "    .dataframe tbody tr th:only-of-type {\n",
       "        vertical-align: middle;\n",
       "    }\n",
       "\n",
       "    .dataframe tbody tr th {\n",
       "        vertical-align: top;\n",
       "    }\n",
       "\n",
       "    .dataframe thead th {\n",
       "        text-align: right;\n",
       "    }\n",
       "</style>\n",
       "<table border=\"1\" class=\"dataframe\">\n",
       "  <thead>\n",
       "    <tr style=\"text-align: right;\">\n",
       "      <th></th>\n",
       "      <th>State</th>\n",
       "      <th>1996_to_1997</th>\n",
       "      <th>2000_to_2001</th>\n",
       "      <th>2005_to_2006</th>\n",
       "      <th>2010_to_2011</th>\n",
       "      <th>Growth_from_2000_to_2010</th>\n",
       "    </tr>\n",
       "  </thead>\n",
       "  <tbody>\n",
       "    <tr>\n",
       "      <th>6</th>\n",
       "      <td>Tamil Nadu</td>\n",
       "      <td>₹ 11,670</td>\n",
       "      <td>₹ 18,344</td>\n",
       "      <td>₹ 31,239</td>\n",
       "      <td>₹ 62,251</td>\n",
       "      <td>240%</td>\n",
       "    </tr>\n",
       "  </tbody>\n",
       "</table>\n",
       "</div>"
      ],
      "text/plain": [
       "        State 1996_to_1997 2000_to_2001 2005_to_2006 2010_to_2011  \\\n",
       "6  Tamil Nadu     ₹ 11,670     ₹ 18,344     ₹ 31,239     ₹ 62,251   \n",
       "\n",
       "  Growth_from_2000_to_2010  \n",
       "6                     240%  "
      ]
     },
     "execution_count": 47,
     "metadata": {},
     "output_type": "execute_result"
    }
   ],
   "source": [
    "df_economy.sample()"
   ]
  },
  {
   "cell_type": "code",
   "execution_count": 76,
   "id": "2fe400c2",
   "metadata": {},
   "outputs": [
    {
     "data": {
      "text/html": [
       "<div>\n",
       "<style scoped>\n",
       "    .dataframe tbody tr th:only-of-type {\n",
       "        vertical-align: middle;\n",
       "    }\n",
       "\n",
       "    .dataframe tbody tr th {\n",
       "        vertical-align: top;\n",
       "    }\n",
       "\n",
       "    .dataframe thead th {\n",
       "        text-align: right;\n",
       "    }\n",
       "</style>\n",
       "<table border=\"1\" class=\"dataframe\">\n",
       "  <thead>\n",
       "    <tr style=\"text-align: right;\">\n",
       "      <th></th>\n",
       "      <th>1996_to_1997</th>\n",
       "      <th>2000_to_2001</th>\n",
       "      <th>2005_to_2006</th>\n",
       "      <th>2010_to_2011</th>\n",
       "    </tr>\n",
       "  </thead>\n",
       "  <tbody>\n",
       "    <tr>\n",
       "      <th>6</th>\n",
       "      <td>11670</td>\n",
       "      <td>18344</td>\n",
       "      <td>31239</td>\n",
       "      <td>62251</td>\n",
       "    </tr>\n",
       "  </tbody>\n",
       "</table>\n",
       "</div>"
      ],
      "text/plain": [
       "  1996_to_1997 2000_to_2001 2005_to_2006 2010_to_2011\n",
       "6        11670        18344        31239        62251"
      ]
     },
     "execution_count": 76,
     "metadata": {},
     "output_type": "execute_result"
    }
   ],
   "source": [
    "df_economy.iloc[:,1:5].sample()"
   ]
  },
  {
   "cell_type": "code",
   "execution_count": 49,
   "id": "b361187e",
   "metadata": {},
   "outputs": [],
   "source": [
    "#df.replace(r'[()]', np.nan, regex=True,\n",
    "          #inplace=True)\n",
    "    \n",
    "df_economy.iloc[:,1:5] = df_economy.iloc[:,1:5].apply(lambda x: x.str.replace(',', ''), axis=1)"
   ]
  },
  {
   "cell_type": "code",
   "execution_count": 50,
   "id": "ab7fd4cb",
   "metadata": {},
   "outputs": [],
   "source": [
    "df_economy.iloc[:,1:5] = df_economy.iloc[:,1:5].apply(lambda x: x.str.replace('₹', ''), axis=1)\n"
   ]
  },
  {
   "cell_type": "markdown",
   "id": "56a11c1b",
   "metadata": {},
   "source": [
    "**Convert indian rupee into Euros.**"
   ]
  },
  {
   "cell_type": "markdown",
   "id": "815b5dd8",
   "metadata": {},
   "source": [
    "* df_economy.select_dtypes(exclude=['State', 'Growth_from_2000_to_2010']) * 0.0116941 \n",
    "\n",
    "\n",
    "* link it to this web: https://www.xe.com/currencycharts/?from=INR&to=EUR"
   ]
  },
  {
   "cell_type": "code",
   "execution_count": 51,
   "id": "bc3ca1fa",
   "metadata": {},
   "outputs": [
    {
     "data": {
      "text/html": [
       "<div>\n",
       "<style scoped>\n",
       "    .dataframe tbody tr th:only-of-type {\n",
       "        vertical-align: middle;\n",
       "    }\n",
       "\n",
       "    .dataframe tbody tr th {\n",
       "        vertical-align: top;\n",
       "    }\n",
       "\n",
       "    .dataframe thead th {\n",
       "        text-align: right;\n",
       "    }\n",
       "</style>\n",
       "<table border=\"1\" class=\"dataframe\">\n",
       "  <thead>\n",
       "    <tr style=\"text-align: right;\">\n",
       "      <th></th>\n",
       "      <th>State</th>\n",
       "      <th>1996_to_1997</th>\n",
       "      <th>2000_to_2001</th>\n",
       "      <th>2005_to_2006</th>\n",
       "      <th>2010_to_2011</th>\n",
       "      <th>Growth_from_2000_to_2010</th>\n",
       "    </tr>\n",
       "  </thead>\n",
       "  <tbody>\n",
       "    <tr>\n",
       "      <th>18</th>\n",
       "      <td>Arunachal Pradesh</td>\n",
       "      <td>10816</td>\n",
       "      <td>15260</td>\n",
       "      <td>28171</td>\n",
       "      <td>60961</td>\n",
       "      <td>299%</td>\n",
       "    </tr>\n",
       "    <tr>\n",
       "      <th>23</th>\n",
       "      <td>Chhattisgarh</td>\n",
       "      <td>8353</td>\n",
       "      <td>10744</td>\n",
       "      <td>20117</td>\n",
       "      <td>41165</td>\n",
       "      <td>283%</td>\n",
       "    </tr>\n",
       "  </tbody>\n",
       "</table>\n",
       "</div>"
      ],
      "text/plain": [
       "                State 1996_to_1997 2000_to_2001 2005_to_2006 2010_to_2011  \\\n",
       "18  Arunachal Pradesh        10816        15260        28171        60961   \n",
       "23       Chhattisgarh         8353        10744        20117        41165   \n",
       "\n",
       "   Growth_from_2000_to_2010  \n",
       "18                     299%  \n",
       "23                     283%  "
      ]
     },
     "execution_count": 51,
     "metadata": {},
     "output_type": "execute_result"
    }
   ],
   "source": [
    "df_economy.sample(2)"
   ]
  },
  {
   "cell_type": "code",
   "execution_count": null,
   "id": "37cf48c6",
   "metadata": {},
   "outputs": [],
   "source": []
  },
  {
   "cell_type": "code",
   "execution_count": 52,
   "id": "59e65e97",
   "metadata": {},
   "outputs": [],
   "source": [
    "#df_economy.iloc[:,1:5] = df_economy.iloc[:,1:5].apply(lambda x: x.astype(float), axis=1)"
   ]
  },
  {
   "cell_type": "code",
   "execution_count": 53,
   "id": "bd41e8d8",
   "metadata": {},
   "outputs": [
    {
     "data": {
      "text/html": [
       "<div>\n",
       "<style scoped>\n",
       "    .dataframe tbody tr th:only-of-type {\n",
       "        vertical-align: middle;\n",
       "    }\n",
       "\n",
       "    .dataframe tbody tr th {\n",
       "        vertical-align: top;\n",
       "    }\n",
       "\n",
       "    .dataframe thead th {\n",
       "        text-align: right;\n",
       "    }\n",
       "</style>\n",
       "<table border=\"1\" class=\"dataframe\">\n",
       "  <thead>\n",
       "    <tr style=\"text-align: right;\">\n",
       "      <th></th>\n",
       "      <th>State</th>\n",
       "      <th>1996_to_1997</th>\n",
       "      <th>2000_to_2001</th>\n",
       "      <th>2005_to_2006</th>\n",
       "      <th>2010_to_2011</th>\n",
       "      <th>Growth_from_2000_to_2010</th>\n",
       "    </tr>\n",
       "  </thead>\n",
       "  <tbody>\n",
       "    <tr>\n",
       "      <th>22</th>\n",
       "      <td>West Bengal</td>\n",
       "      <td>9857</td>\n",
       "      <td>16583</td>\n",
       "      <td>24720</td>\n",
       "      <td>47245</td>\n",
       "      <td>184%</td>\n",
       "    </tr>\n",
       "    <tr>\n",
       "      <th>2</th>\n",
       "      <td>Sikkim</td>\n",
       "      <td>11332</td>\n",
       "      <td>16077</td>\n",
       "      <td>30252</td>\n",
       "      <td>108972</td>\n",
       "      <td>577%</td>\n",
       "    </tr>\n",
       "    <tr>\n",
       "      <th>24</th>\n",
       "      <td>Odisha</td>\n",
       "      <td>6548</td>\n",
       "      <td>10453</td>\n",
       "      <td>18846</td>\n",
       "      <td>39537</td>\n",
       "      <td>278%</td>\n",
       "    </tr>\n",
       "    <tr>\n",
       "      <th>6</th>\n",
       "      <td>Tamil Nadu</td>\n",
       "      <td>11670</td>\n",
       "      <td>18344</td>\n",
       "      <td>31239</td>\n",
       "      <td>62251</td>\n",
       "      <td>240%</td>\n",
       "    </tr>\n",
       "    <tr>\n",
       "      <th>14</th>\n",
       "      <td>Andaman and Nicobar Islands</td>\n",
       "      <td>21017</td>\n",
       "      <td>25047</td>\n",
       "      <td>44754</td>\n",
       "      <td>80558</td>\n",
       "      <td>283%</td>\n",
       "    </tr>\n",
       "  </tbody>\n",
       "</table>\n",
       "</div>"
      ],
      "text/plain": [
       "                          State 1996_to_1997 2000_to_2001 2005_to_2006  \\\n",
       "22                  West Bengal         9857        16583        24720   \n",
       "2                        Sikkim        11332        16077        30252   \n",
       "24                       Odisha         6548        10453        18846   \n",
       "6                    Tamil Nadu        11670        18344        31239   \n",
       "14  Andaman and Nicobar Islands        21017        25047        44754   \n",
       "\n",
       "   2010_to_2011 Growth_from_2000_to_2010  \n",
       "22        47245                     184%  \n",
       "2        108972                     577%  \n",
       "24        39537                     278%  \n",
       "6         62251                     240%  \n",
       "14        80558                     283%  "
      ]
     },
     "execution_count": 53,
     "metadata": {},
     "output_type": "execute_result"
    }
   ],
   "source": [
    "df_economy.sample(5)"
   ]
  },
  {
   "cell_type": "code",
   "execution_count": 54,
   "id": "621e889b",
   "metadata": {},
   "outputs": [],
   "source": [
    "df_economy.to_csv('DF_India_nsdp_per_capita_Extract.csv', index=False)"
   ]
  },
  {
   "cell_type": "markdown",
   "id": "804ff2cc",
   "metadata": {},
   "source": [
    "##### Pandas Method:"
   ]
  },
  {
   "cell_type": "code",
   "execution_count": 61,
   "id": "79683b16",
   "metadata": {},
   "outputs": [],
   "source": [
    "data_covid = pd.read_html('https://prsindia.org/covid-19/cases',skiprows=0)[0]"
   ]
  },
  {
   "cell_type": "code",
   "execution_count": 62,
   "id": "7d4c5a11",
   "metadata": {},
   "outputs": [],
   "source": [
    "df_covid = pd.DataFrame(data_covid)"
   ]
  },
  {
   "cell_type": "code",
   "execution_count": 63,
   "id": "d35e5d81",
   "metadata": {},
   "outputs": [
    {
     "data": {
      "text/html": [
       "<div>\n",
       "<style scoped>\n",
       "    .dataframe tbody tr th:only-of-type {\n",
       "        vertical-align: middle;\n",
       "    }\n",
       "\n",
       "    .dataframe tbody tr th {\n",
       "        vertical-align: top;\n",
       "    }\n",
       "\n",
       "    .dataframe thead th {\n",
       "        text-align: right;\n",
       "    }\n",
       "</style>\n",
       "<table border=\"1\" class=\"dataframe\">\n",
       "  <thead>\n",
       "    <tr style=\"text-align: right;\">\n",
       "      <th></th>\n",
       "      <th>#</th>\n",
       "      <th>Confirmed Cases</th>\n",
       "      <th>Active Cases</th>\n",
       "      <th>Cured/Discharged</th>\n",
       "      <th>Death</th>\n",
       "    </tr>\n",
       "  </thead>\n",
       "  <tbody>\n",
       "    <tr>\n",
       "      <th>count</th>\n",
       "      <td>36.000000</td>\n",
       "      <td>3.700000e+01</td>\n",
       "      <td>3.700000e+01</td>\n",
       "      <td>3.700000e+01</td>\n",
       "      <td>37.000000</td>\n",
       "    </tr>\n",
       "    <tr>\n",
       "      <th>mean</th>\n",
       "      <td>18.500000</td>\n",
       "      <td>2.274630e+06</td>\n",
       "      <td>7.198097e+04</td>\n",
       "      <td>2.175562e+06</td>\n",
       "      <td>27087.243243</td>\n",
       "    </tr>\n",
       "    <tr>\n",
       "      <th>std</th>\n",
       "      <td>10.535654</td>\n",
       "      <td>6.937848e+06</td>\n",
       "      <td>2.236040e+05</td>\n",
       "      <td>6.633935e+06</td>\n",
       "      <td>83973.986020</td>\n",
       "    </tr>\n",
       "    <tr>\n",
       "      <th>min</th>\n",
       "      <td>1.000000</td>\n",
       "      <td>9.883000e+03</td>\n",
       "      <td>1.070000e+02</td>\n",
       "      <td>9.543000e+03</td>\n",
       "      <td>4.000000</td>\n",
       "    </tr>\n",
       "    <tr>\n",
       "      <th>25%</th>\n",
       "      <td>9.750000</td>\n",
       "      <td>1.006370e+05</td>\n",
       "      <td>2.099000e+03</td>\n",
       "      <td>9.853700e+04</td>\n",
       "      <td>1135.000000</td>\n",
       "    </tr>\n",
       "    <tr>\n",
       "      <th>50%</th>\n",
       "      <td>18.500000</td>\n",
       "      <td>7.206780e+05</td>\n",
       "      <td>1.432100e+04</td>\n",
       "      <td>7.008560e+05</td>\n",
       "      <td>6533.000000</td>\n",
       "    </tr>\n",
       "    <tr>\n",
       "      <th>75%</th>\n",
       "      <td>27.250000</td>\n",
       "      <td>1.262102e+06</td>\n",
       "      <td>3.641100e+04</td>\n",
       "      <td>1.228976e+06</td>\n",
       "      <td>14646.000000</td>\n",
       "    </tr>\n",
       "    <tr>\n",
       "      <th>max</th>\n",
       "      <td>36.000000</td>\n",
       "      <td>4.208066e+07</td>\n",
       "      <td>1.331648e+06</td>\n",
       "      <td>4.024790e+07</td>\n",
       "      <td>501114.000000</td>\n",
       "    </tr>\n",
       "  </tbody>\n",
       "</table>\n",
       "</div>"
      ],
      "text/plain": [
       "               #  Confirmed Cases  Active Cases  Cured/Discharged  \\\n",
       "count  36.000000     3.700000e+01  3.700000e+01      3.700000e+01   \n",
       "mean   18.500000     2.274630e+06  7.198097e+04      2.175562e+06   \n",
       "std    10.535654     6.937848e+06  2.236040e+05      6.633935e+06   \n",
       "min     1.000000     9.883000e+03  1.070000e+02      9.543000e+03   \n",
       "25%     9.750000     1.006370e+05  2.099000e+03      9.853700e+04   \n",
       "50%    18.500000     7.206780e+05  1.432100e+04      7.008560e+05   \n",
       "75%    27.250000     1.262102e+06  3.641100e+04      1.228976e+06   \n",
       "max    36.000000     4.208066e+07  1.331648e+06      4.024790e+07   \n",
       "\n",
       "               Death  \n",
       "count      37.000000  \n",
       "mean    27087.243243  \n",
       "std     83973.986020  \n",
       "min         4.000000  \n",
       "25%      1135.000000  \n",
       "50%      6533.000000  \n",
       "75%     14646.000000  \n",
       "max    501114.000000  "
      ]
     },
     "execution_count": 63,
     "metadata": {},
     "output_type": "execute_result"
    }
   ],
   "source": [
    "df_covid.describe()"
   ]
  },
  {
   "cell_type": "code",
   "execution_count": 64,
   "id": "71b9fa3c",
   "metadata": {
    "scrolled": true
   },
   "outputs": [
    {
     "data": {
      "text/html": [
       "<div>\n",
       "<style scoped>\n",
       "    .dataframe tbody tr th:only-of-type {\n",
       "        vertical-align: middle;\n",
       "    }\n",
       "\n",
       "    .dataframe tbody tr th {\n",
       "        vertical-align: top;\n",
       "    }\n",
       "\n",
       "    .dataframe thead th {\n",
       "        text-align: right;\n",
       "    }\n",
       "</style>\n",
       "<table border=\"1\" class=\"dataframe\">\n",
       "  <thead>\n",
       "    <tr style=\"text-align: right;\">\n",
       "      <th></th>\n",
       "      <th>#</th>\n",
       "      <th>State/UT</th>\n",
       "      <th>Confirmed Cases</th>\n",
       "      <th>Active Cases</th>\n",
       "      <th>Cured/Discharged</th>\n",
       "      <th>Death</th>\n",
       "    </tr>\n",
       "  </thead>\n",
       "  <tbody>\n",
       "    <tr>\n",
       "      <th>8</th>\n",
       "      <td>9.0</td>\n",
       "      <td>Delhi</td>\n",
       "      <td>1840919</td>\n",
       "      <td>11716</td>\n",
       "      <td>1803251</td>\n",
       "      <td>25952</td>\n",
       "    </tr>\n",
       "  </tbody>\n",
       "</table>\n",
       "</div>"
      ],
      "text/plain": [
       "     # State/UT  Confirmed Cases  Active Cases  Cured/Discharged  Death\n",
       "8  9.0    Delhi          1840919         11716           1803251  25952"
      ]
     },
     "execution_count": 64,
     "metadata": {},
     "output_type": "execute_result"
    }
   ],
   "source": [
    "df_covid.sample()"
   ]
  },
  {
   "cell_type": "code",
   "execution_count": 65,
   "id": "d0c55d08",
   "metadata": {},
   "outputs": [],
   "source": [
    "df_covid.rename(columns={'State/UT':'State','Cured/Discharged':'Cured'},inplace=True)"
   ]
  },
  {
   "cell_type": "code",
   "execution_count": 66,
   "id": "4cac1fce",
   "metadata": {},
   "outputs": [],
   "source": [
    "df_covid.drop(['#'],axis=1,inplace=True)"
   ]
  },
  {
   "cell_type": "code",
   "execution_count": 67,
   "id": "c2212f4f",
   "metadata": {},
   "outputs": [],
   "source": [
    "df_covid_19 = df_covid.reset_index(drop=True)"
   ]
  },
  {
   "cell_type": "code",
   "execution_count": 68,
   "id": "1122faab",
   "metadata": {},
   "outputs": [
    {
     "data": {
      "text/html": [
       "<div>\n",
       "<style scoped>\n",
       "    .dataframe tbody tr th:only-of-type {\n",
       "        vertical-align: middle;\n",
       "    }\n",
       "\n",
       "    .dataframe tbody tr th {\n",
       "        vertical-align: top;\n",
       "    }\n",
       "\n",
       "    .dataframe thead th {\n",
       "        text-align: right;\n",
       "    }\n",
       "</style>\n",
       "<table border=\"1\" class=\"dataframe\">\n",
       "  <thead>\n",
       "    <tr style=\"text-align: right;\">\n",
       "      <th></th>\n",
       "      <th>State</th>\n",
       "      <th>Confirmed Cases</th>\n",
       "      <th>Active Cases</th>\n",
       "      <th>Cured</th>\n",
       "      <th>Death</th>\n",
       "    </tr>\n",
       "  </thead>\n",
       "  <tbody>\n",
       "    <tr>\n",
       "      <th>28</th>\n",
       "      <td>Rajasthan</td>\n",
       "      <td>1235071</td>\n",
       "      <td>54869</td>\n",
       "      <td>1170849</td>\n",
       "      <td>9353</td>\n",
       "    </tr>\n",
       "  </tbody>\n",
       "</table>\n",
       "</div>"
      ],
      "text/plain": [
       "        State  Confirmed Cases  Active Cases    Cured  Death\n",
       "28  Rajasthan          1235071         54869  1170849   9353"
      ]
     },
     "execution_count": 68,
     "metadata": {},
     "output_type": "execute_result"
    }
   ],
   "source": [
    "df_covid_19.sample()"
   ]
  },
  {
   "cell_type": "code",
   "execution_count": 69,
   "id": "92c328b9",
   "metadata": {},
   "outputs": [],
   "source": [
    "df_covid_19.to_csv('DF_India_Covid_Incidents_Extract.csv',index=False)"
   ]
  },
  {
   "cell_type": "markdown",
   "id": "69e13271",
   "metadata": {},
   "source": []
  }
 ],
 "metadata": {
  "kernelspec": {
   "display_name": "ironhack",
   "language": "python",
   "name": "ironhack"
  },
  "language_info": {
   "codemirror_mode": {
    "name": "ipython",
    "version": 3
   },
   "file_extension": ".py",
   "mimetype": "text/x-python",
   "name": "python",
   "nbconvert_exporter": "python",
   "pygments_lexer": "ipython3",
   "version": "3.9.7"
  }
 },
 "nbformat": 4,
 "nbformat_minor": 5
}
