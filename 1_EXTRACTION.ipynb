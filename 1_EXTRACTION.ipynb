{
 "cells": [
  {
   "cell_type": "markdown",
   "id": "999d7e63",
   "metadata": {},
   "source": [
    "### 1. Extraction"
   ]
  },
  {
   "cell_type": "code",
   "execution_count": null,
   "id": "ca76aab9",
   "metadata": {},
   "outputs": [],
   "source": []
  },
  {
   "cell_type": "markdown",
   "id": "919f3b0b",
   "metadata": {},
   "source": [
    "##### Tools"
   ]
  },
  {
   "cell_type": "code",
   "execution_count": 1,
   "id": "00f3d5d5",
   "metadata": {},
   "outputs": [],
   "source": [
    "### Tools\n",
    "import requests as req\n",
    "from bs4 import BeautifulSoup as bs\n",
    "import pandas as pd\n",
    "from selenium import webdriver\n",
    "from webdriver_manager.chrome import ChromeDriverManager\n",
    "import warnings   # para quitar warnings\n",
    "from chromedriver_py import binary_path # this will get you the path variable\n",
    "import re"
   ]
  },
  {
   "cell_type": "markdown",
   "id": "b7326997",
   "metadata": {},
   "source": [
    "#### Selenium "
   ]
  },
  {
   "cell_type": "code",
   "execution_count": 2,
   "id": "98a8aa96",
   "metadata": {
    "scrolled": false
   },
   "outputs": [],
   "source": [
    "#!pip install chromedriver-py"
   ]
  },
  {
   "cell_type": "code",
   "execution_count": 3,
   "id": "96bb0457",
   "metadata": {},
   "outputs": [],
   "source": [
    "url = 'https://m.rbi.org.in/scripts/PublicationsView.aspx?id=20660'"
   ]
  },
  {
   "cell_type": "code",
   "execution_count": 4,
   "id": "d53e47ed",
   "metadata": {},
   "outputs": [
    {
     "name": "stderr",
     "output_type": "stream",
     "text": [
      "\n",
      "\n",
      "====== WebDriver manager ======\n",
      "Current google-chrome version is 98.0.4758\n",
      "Get LATEST chromedriver version for 98.0.4758 google-chrome\n",
      "Driver [/Users/antoniolopez/.wdm/drivers/chromedriver/mac64/98.0.4758.80/chromedriver] found in cache\n"
     ]
    }
   ],
   "source": [
    "PATH=ChromeDriverManager().install() #PATH"
   ]
  },
  {
   "cell_type": "code",
   "execution_count": 5,
   "id": "1c58774b",
   "metadata": {},
   "outputs": [
    {
     "name": "stderr",
     "output_type": "stream",
     "text": [
      "/var/folders/xt/vx2zkv116hb1jvz92s1nlr2r0000gn/T/ipykernel_43432/1135884956.py:1: DeprecationWarning: executable_path has been deprecated, please pass in a Service object\n",
      "  driver = webdriver.Chrome(PATH) #Driver\n"
     ]
    }
   ],
   "source": [
    "driver = webdriver.Chrome(PATH) #Driver\n",
    "driver.get(url)"
   ]
  },
  {
   "cell_type": "code",
   "execution_count": 6,
   "id": "511cd529",
   "metadata": {},
   "outputs": [
    {
     "name": "stderr",
     "output_type": "stream",
     "text": [
      "/var/folders/xt/vx2zkv116hb1jvz92s1nlr2r0000gn/T/ipykernel_43432/1913518297.py:1: DeprecationWarning: find_element_by_* commands are deprecated. Please use find_element() instead\n",
      "  Table = driver.find_element_by_xpath('//*[@id=\"doublescroll\"]/table[2]/tbody/tr[4]/td/table').text\n"
     ]
    }
   ],
   "source": [
    "Table = driver.find_element_by_xpath('//*[@id=\"doublescroll\"]/table[2]/tbody/tr[4]/td/table').text"
   ]
  },
  {
   "cell_type": "code",
   "execution_count": 7,
   "id": "92c274e6",
   "metadata": {},
   "outputs": [],
   "source": [
    "driver.quit()"
   ]
  },
  {
   "cell_type": "code",
   "execution_count": 8,
   "id": "f2b1a1f7",
   "metadata": {
    "scrolled": true
   },
   "outputs": [
    {
     "data": {
      "text/plain": [
       "'(Thousands)\\nState/Union Territory 1951 1961 1971 1981 1991 2001 2011\\nAndaman and Nicobar Islands 31 64 115 189 281 356 381\\nAndhra Pradesh 31115 35983 43503 53551 66508 76210 84581\\nArunachal Pradesh - 337 468 632 865 1098 1384\\nAssam 8029 10837 14625 18041 22414 26656 31206\\nBihar 29085 34841 42126 52303 64531 82999 104099\\nChandigarh 24 120 257 452 642 901 1055\\nChhattisgarh 7457 9154 11637 14010 17615 20834 25545\\nDadra and Nagar Haveli 42 58 74 104 138 220 344\\nDaman and Diu 49 37 63 79 102 158 243\\nDelhi 1744 2659 4066 6220 9421 13851 16788\\nGoa 547 590 795 1008 1170 1348 1459\\nGujarat 16263 20633 26697 34086 41310 50671 60440\\nHaryana 5674 7591 10036 12922 16464 21145 25351\\nHimachal Pradesh 2386 2812 3460 4281 5171 6078 6865\\nJammu and Kashmir 3254 3561 4617 5987 7837 10144 12541\\nJharkhand 9697 11606 14227 17612 21844 26946 32988\\nKarnataka 19402 23587 29299 37136 44977 52851 61095\\nKerala 13549 16904 21347 25454 29099 31841 33406\\nLakshadweep 21 24 32 40 52 61 64\\nMadhya Pradesh 18615 23218 30017 38169 48566 60348 72627\\nMaharashtra 32003 39554 50412 62783 78937 96879 112374\\nManipur 578 780 1073 1421 1837 2294 2856\\nMeghalaya 606 769 1012 1336 1775 2319 2967\\nMizoram 196 266 332 494 690 889 1097\\nNagaland 213 369 516 775 1210 1990 1979\\nOdisha 14646 17549 21945 26370 31660 36805 41974\\nPuducherry 317 369 472 604 808 974 1248\\nPunjab 9161 11135 13551 16789 20282 24359 27743\\nRajasthan 15971 20156 25766 34262 44006 56507 68548\\nSikkim 138 162 210 316 406 541 611\\nTamil Nadu 30119 33687 41199 48408 55859 62406 72147\\nTripura 639 1142 1556 2053 2757 3199 3674\\nUttar Pradesh 60274 70144 83849 105137 132062 166198 199812\\nUttarakhand 2946 3611 4493 5726 7051 8489 10086\\nWest Bengal 26300 34926 44312 54581 68078 80176 91276\\nALL INDIA 361088 439235 548160 683329 846421 1028737 1210855\\n-: Not Available.\\nNotes: 1. In Arunachal Pradesh, the census was conducted for the first time in 1961.\\n2. The 1981 Census could not be held in Assam. Total Population for 1981 has been worked out by Interpolation.\\n3. The 1991 Census could not be held in Jammu and Kashmir. Total Population for 1991 has been worked out by Interpolation.\\n4. India and Manipur figures include estimated population for those of the three sub-divisions viz., Mao Maram, Paomata and Purul of Senapati district of Manipur as census result of 2001 in these three sub-divisions were cancelled due to technical and administrative reasons.\\n5. Efforts have been made to cover newly created States, wherever possible.\\nSource: Economic Survey, Government of India, various issues.'"
      ]
     },
     "execution_count": 8,
     "metadata": {},
     "output_type": "execute_result"
    }
   ],
   "source": [
    "Table"
   ]
  },
  {
   "cell_type": "code",
   "execution_count": 9,
   "id": "eb21bb84",
   "metadata": {},
   "outputs": [],
   "source": [
    "step_1 = Table.split('\\n') "
   ]
  },
  {
   "cell_type": "code",
   "execution_count": 10,
   "id": "0548697d",
   "metadata": {},
   "outputs": [],
   "source": [
    "countries_1 = [''.join(re.sub(r'[^a-zA-Z]',' ' , i)) for i in step_1[1:38]]\n",
    "# Using the method sub ( substitude) from Regex, we substitude all the numbers for a space, the space will be strip late on with the lstrip funtion."
   ]
  },
  {
   "cell_type": "code",
   "execution_count": 11,
   "id": "04276aa8",
   "metadata": {},
   "outputs": [],
   "source": [
    "countries_2 = [s.rstrip() for s in countries_1] \n",
    "#Here countries are clean!"
   ]
  },
  {
   "cell_type": "code",
   "execution_count": 12,
   "id": "9ff1636a",
   "metadata": {
    "scrolled": true
   },
   "outputs": [
    {
     "data": {
      "text/plain": [
       "['State Union Territory',\n",
       " 'Andaman and Nicobar Islands',\n",
       " 'Andhra Pradesh',\n",
       " 'Arunachal Pradesh',\n",
       " 'Assam',\n",
       " 'Bihar',\n",
       " 'Chandigarh',\n",
       " 'Chhattisgarh',\n",
       " 'Dadra and Nagar Haveli',\n",
       " 'Daman and Diu',\n",
       " 'Delhi',\n",
       " 'Goa',\n",
       " 'Gujarat',\n",
       " 'Haryana',\n",
       " 'Himachal Pradesh',\n",
       " 'Jammu and Kashmir',\n",
       " 'Jharkhand',\n",
       " 'Karnataka',\n",
       " 'Kerala',\n",
       " 'Lakshadweep',\n",
       " 'Madhya Pradesh',\n",
       " 'Maharashtra',\n",
       " 'Manipur',\n",
       " 'Meghalaya',\n",
       " 'Mizoram',\n",
       " 'Nagaland',\n",
       " 'Odisha',\n",
       " 'Puducherry',\n",
       " 'Punjab',\n",
       " 'Rajasthan',\n",
       " 'Sikkim',\n",
       " 'Tamil Nadu',\n",
       " 'Tripura',\n",
       " 'Uttar Pradesh',\n",
       " 'Uttarakhand',\n",
       " 'West Bengal',\n",
       " 'ALL INDIA']"
      ]
     },
     "execution_count": 12,
     "metadata": {},
     "output_type": "execute_result"
    }
   ],
   "source": [
    "countries_2"
   ]
  },
  {
   "cell_type": "code",
   "execution_count": 13,
   "id": "12c41dd3",
   "metadata": {},
   "outputs": [],
   "source": [
    "values = [''.join(re.findall(r'[^a-zA-Z\\/]', i)) for i in step_1[1:38]]\n",
    "# Extract the values, and also exclude the '/' character."
   ]
  },
  {
   "cell_type": "code",
   "execution_count": 14,
   "id": "4eb20635",
   "metadata": {},
   "outputs": [],
   "source": [
    "values_1 = [d.replace('-','0')for d in values]\n",
    "# Sustitude '-' for a cero."
   ]
  },
  {
   "cell_type": "code",
   "execution_count": 15,
   "id": "644290da",
   "metadata": {},
   "outputs": [],
   "source": [
    "values_2 = [r.lstrip() for r in values_1]\n",
    "# Eliminate the left spaces "
   ]
  },
  {
   "cell_type": "code",
   "execution_count": 16,
   "id": "474f55b1",
   "metadata": {},
   "outputs": [],
   "source": [
    "values_3 = [re.sub(' ',',',c) for c in values_2]\n",
    "# Substitude the spaces between the numbers with comas"
   ]
  },
  {
   "cell_type": "code",
   "execution_count": 17,
   "id": "fd227ed9",
   "metadata": {
    "scrolled": true
   },
   "outputs": [],
   "source": [
    "values_4 = [list(map(int,values_3[c].split(','))) for c in range(len(values_3))]\n",
    "# INCREDIBLYYYYY!!! we remove the single quotes of each list!!!"
   ]
  },
  {
   "cell_type": "code",
   "execution_count": 18,
   "id": "bbff7c50",
   "metadata": {
    "scrolled": true
   },
   "outputs": [
    {
     "data": {
      "text/plain": [
       "[[31, 64, 115, 189, 281, 356, 381],\n",
       " [31115, 35983, 43503, 53551, 66508, 76210, 84581],\n",
       " [0, 337, 468, 632, 865, 1098, 1384],\n",
       " [8029, 10837, 14625, 18041, 22414, 26656, 31206],\n",
       " [29085, 34841, 42126, 52303, 64531, 82999, 104099],\n",
       " [24, 120, 257, 452, 642, 901, 1055],\n",
       " [7457, 9154, 11637, 14010, 17615, 20834, 25545],\n",
       " [42, 58, 74, 104, 138, 220, 344],\n",
       " [49, 37, 63, 79, 102, 158, 243],\n",
       " [1744, 2659, 4066, 6220, 9421, 13851, 16788],\n",
       " [547, 590, 795, 1008, 1170, 1348, 1459],\n",
       " [16263, 20633, 26697, 34086, 41310, 50671, 60440],\n",
       " [5674, 7591, 10036, 12922, 16464, 21145, 25351],\n",
       " [2386, 2812, 3460, 4281, 5171, 6078, 6865],\n",
       " [3254, 3561, 4617, 5987, 7837, 10144, 12541],\n",
       " [9697, 11606, 14227, 17612, 21844, 26946, 32988],\n",
       " [19402, 23587, 29299, 37136, 44977, 52851, 61095],\n",
       " [13549, 16904, 21347, 25454, 29099, 31841, 33406],\n",
       " [21, 24, 32, 40, 52, 61, 64],\n",
       " [18615, 23218, 30017, 38169, 48566, 60348, 72627],\n",
       " [32003, 39554, 50412, 62783, 78937, 96879, 112374],\n",
       " [578, 780, 1073, 1421, 1837, 2294, 2856],\n",
       " [606, 769, 1012, 1336, 1775, 2319, 2967],\n",
       " [196, 266, 332, 494, 690, 889, 1097],\n",
       " [213, 369, 516, 775, 1210, 1990, 1979],\n",
       " [14646, 17549, 21945, 26370, 31660, 36805, 41974],\n",
       " [317, 369, 472, 604, 808, 974, 1248],\n",
       " [9161, 11135, 13551, 16789, 20282, 24359, 27743],\n",
       " [15971, 20156, 25766, 34262, 44006, 56507, 68548],\n",
       " [138, 162, 210, 316, 406, 541, 611],\n",
       " [30119, 33687, 41199, 48408, 55859, 62406, 72147],\n",
       " [639, 1142, 1556, 2053, 2757, 3199, 3674],\n",
       " [60274, 70144, 83849, 105137, 132062, 166198, 199812],\n",
       " [2946, 3611, 4493, 5726, 7051, 8489, 10086],\n",
       " [26300, 34926, 44312, 54581, 68078, 80176, 91276],\n",
       " [361088, 439235, 548160, 683329, 846421, 1028737, 1210855]]"
      ]
     },
     "execution_count": 18,
     "metadata": {},
     "output_type": "execute_result"
    }
   ],
   "source": [
    "values_4[1:]"
   ]
  },
  {
   "cell_type": "code",
   "execution_count": 19,
   "id": "664c2a06",
   "metadata": {},
   "outputs": [],
   "source": [
    "values_5 = tuple(values_4[1:])"
   ]
  },
  {
   "cell_type": "code",
   "execution_count": 20,
   "id": "ffd87983",
   "metadata": {},
   "outputs": [],
   "source": [
    "def db(list1):\n",
    "    return str(list1).replace('(','').replace(')','')"
   ]
  },
  {
   "cell_type": "code",
   "execution_count": 21,
   "id": "b3087470",
   "metadata": {},
   "outputs": [
    {
     "data": {
      "text/plain": [
       "'[31, 64, 115, 189, 281, 356, 381], [31115, 35983, 43503, 53551, 66508, 76210, 84581], [0, 337, 468, 632, 865, 1098, 1384], [8029, 10837, 14625, 18041, 22414, 26656, 31206], [29085, 34841, 42126, 52303, 64531, 82999, 104099], [24, 120, 257, 452, 642, 901, 1055], [7457, 9154, 11637, 14010, 17615, 20834, 25545], [42, 58, 74, 104, 138, 220, 344], [49, 37, 63, 79, 102, 158, 243], [1744, 2659, 4066, 6220, 9421, 13851, 16788], [547, 590, 795, 1008, 1170, 1348, 1459], [16263, 20633, 26697, 34086, 41310, 50671, 60440], [5674, 7591, 10036, 12922, 16464, 21145, 25351], [2386, 2812, 3460, 4281, 5171, 6078, 6865], [3254, 3561, 4617, 5987, 7837, 10144, 12541], [9697, 11606, 14227, 17612, 21844, 26946, 32988], [19402, 23587, 29299, 37136, 44977, 52851, 61095], [13549, 16904, 21347, 25454, 29099, 31841, 33406], [21, 24, 32, 40, 52, 61, 64], [18615, 23218, 30017, 38169, 48566, 60348, 72627], [32003, 39554, 50412, 62783, 78937, 96879, 112374], [578, 780, 1073, 1421, 1837, 2294, 2856], [606, 769, 1012, 1336, 1775, 2319, 2967], [196, 266, 332, 494, 690, 889, 1097], [213, 369, 516, 775, 1210, 1990, 1979], [14646, 17549, 21945, 26370, 31660, 36805, 41974], [317, 369, 472, 604, 808, 974, 1248], [9161, 11135, 13551, 16789, 20282, 24359, 27743], [15971, 20156, 25766, 34262, 44006, 56507, 68548], [138, 162, 210, 316, 406, 541, 611], [30119, 33687, 41199, 48408, 55859, 62406, 72147], [639, 1142, 1556, 2053, 2757, 3199, 3674], [60274, 70144, 83849, 105137, 132062, 166198, 199812], [2946, 3611, 4493, 5726, 7051, 8489, 10086], [26300, 34926, 44312, 54581, 68078, 80176, 91276], [361088, 439235, 548160, 683329, 846421, 1028737, 1210855]'"
      ]
     },
     "execution_count": 21,
     "metadata": {},
     "output_type": "execute_result"
    }
   ],
   "source": [
    "db(values_5) # porque me permite copiar el data set (directamente de aqui), pero si lo copio de una lista de lista no me lo permite??"
   ]
  },
  {
   "cell_type": "code",
   "execution_count": 22,
   "id": "c8be63c3",
   "metadata": {},
   "outputs": [],
   "source": [
    "values_6 = [31, 64, 115, 189, 281, 356, 381], [31115, 35983, 43503, 53551, 66508, 76210, 84581], [0, 337, 468, 632, 865, 1098, 1384], [8029, 10837, 14625, 18041, 22414, 26656, 31206], [29085, 34841, 42126, 52303, 64531, 82999, 104099], [24, 120, 257, 452, 642, 901, 1055], [7457, 9154, 11637, 14010, 17615, 20834, 25545], [42, 58, 74, 104, 138, 220, 344], [49, 37, 63, 79, 102, 158, 243], [1744, 2659, 4066, 6220, 9421, 13851, 16788], [547, 590, 795, 1008, 1170, 1348, 1459], [16263, 20633, 26697, 34086, 41310, 50671, 60440], [5674, 7591, 10036, 12922, 16464, 21145, 25351], [2386, 2812, 3460, 4281, 5171, 6078, 6865], [3254, 3561, 4617, 5987, 7837, 10144, 12541], [9697, 11606, 14227, 17612, 21844, 26946, 32988], [19402, 23587, 29299, 37136, 44977, 52851, 61095], [13549, 16904, 21347, 25454, 29099, 31841, 33406], [21, 24, 32, 40, 52, 61, 64], [18615, 23218, 30017, 38169, 48566, 60348, 72627], [32003, 39554, 50412, 62783, 78937, 96879, 112374], [578, 780, 1073, 1421, 1837, 2294, 2856], [606, 769, 1012, 1336, 1775, 2319, 2967], [196, 266, 332, 494, 690, 889, 1097], [213, 369, 516, 775, 1210, 1990, 1979], [14646, 17549, 21945, 26370, 31660, 36805, 41974], [317, 369, 472, 604, 808, 974, 1248], [9161, 11135, 13551, 16789, 20282, 24359, 27743], [15971, 20156, 25766, 34262, 44006, 56507, 68548], [138, 162, 210, 316, 406, 541, 611], [30119, 33687, 41199, 48408, 55859, 62406, 72147], [639, 1142, 1556, 2053, 2757, 3199, 3674], [60274, 70144, 83849, 105137, 132062, 166198, 199812], [2946, 3611, 4493, 5726, 7051, 8489, 10086], [26300, 34926, 44312, 54581, 68078, 80176, 91276], [361088, 439235, 548160, 683329, 846421, 1028737, 1210855]"
   ]
  },
  {
   "cell_type": "code",
   "execution_count": 23,
   "id": "fef6ab33",
   "metadata": {},
   "outputs": [],
   "source": [
    "# --------   This is the index ----- str(values_4[0])[1:-1]"
   ]
  },
  {
   "cell_type": "code",
   "execution_count": null,
   "id": "670a3391",
   "metadata": {},
   "outputs": [],
   "source": []
  },
  {
   "cell_type": "code",
   "execution_count": 24,
   "id": "83a988a1",
   "metadata": {
    "scrolled": true
   },
   "outputs": [],
   "source": [
    "dic_1 = {countries_2[0]:countries_2[1:],\n",
    "        'years': values_6}"
   ]
  },
  {
   "cell_type": "code",
   "execution_count": 25,
   "id": "96c2add5",
   "metadata": {
    "scrolled": true
   },
   "outputs": [],
   "source": [
    "df = pd.DataFrame(dic_1)"
   ]
  },
  {
   "cell_type": "code",
   "execution_count": 26,
   "id": "c1de5d56",
   "metadata": {},
   "outputs": [
    {
     "data": {
      "text/html": [
       "<div>\n",
       "<style scoped>\n",
       "    .dataframe tbody tr th:only-of-type {\n",
       "        vertical-align: middle;\n",
       "    }\n",
       "\n",
       "    .dataframe tbody tr th {\n",
       "        vertical-align: top;\n",
       "    }\n",
       "\n",
       "    .dataframe thead th {\n",
       "        text-align: right;\n",
       "    }\n",
       "</style>\n",
       "<table border=\"1\" class=\"dataframe\">\n",
       "  <thead>\n",
       "    <tr style=\"text-align: right;\">\n",
       "      <th></th>\n",
       "      <th>0</th>\n",
       "      <th>1</th>\n",
       "      <th>2</th>\n",
       "      <th>3</th>\n",
       "      <th>4</th>\n",
       "      <th>5</th>\n",
       "      <th>6</th>\n",
       "    </tr>\n",
       "  </thead>\n",
       "  <tbody>\n",
       "    <tr>\n",
       "      <th>0</th>\n",
       "      <td>31</td>\n",
       "      <td>64</td>\n",
       "      <td>115</td>\n",
       "      <td>189</td>\n",
       "      <td>281</td>\n",
       "      <td>356</td>\n",
       "      <td>381</td>\n",
       "    </tr>\n",
       "    <tr>\n",
       "      <th>1</th>\n",
       "      <td>31115</td>\n",
       "      <td>35983</td>\n",
       "      <td>43503</td>\n",
       "      <td>53551</td>\n",
       "      <td>66508</td>\n",
       "      <td>76210</td>\n",
       "      <td>84581</td>\n",
       "    </tr>\n",
       "    <tr>\n",
       "      <th>2</th>\n",
       "      <td>0</td>\n",
       "      <td>337</td>\n",
       "      <td>468</td>\n",
       "      <td>632</td>\n",
       "      <td>865</td>\n",
       "      <td>1098</td>\n",
       "      <td>1384</td>\n",
       "    </tr>\n",
       "    <tr>\n",
       "      <th>3</th>\n",
       "      <td>8029</td>\n",
       "      <td>10837</td>\n",
       "      <td>14625</td>\n",
       "      <td>18041</td>\n",
       "      <td>22414</td>\n",
       "      <td>26656</td>\n",
       "      <td>31206</td>\n",
       "    </tr>\n",
       "    <tr>\n",
       "      <th>4</th>\n",
       "      <td>29085</td>\n",
       "      <td>34841</td>\n",
       "      <td>42126</td>\n",
       "      <td>52303</td>\n",
       "      <td>64531</td>\n",
       "      <td>82999</td>\n",
       "      <td>104099</td>\n",
       "    </tr>\n",
       "    <tr>\n",
       "      <th>5</th>\n",
       "      <td>24</td>\n",
       "      <td>120</td>\n",
       "      <td>257</td>\n",
       "      <td>452</td>\n",
       "      <td>642</td>\n",
       "      <td>901</td>\n",
       "      <td>1055</td>\n",
       "    </tr>\n",
       "    <tr>\n",
       "      <th>6</th>\n",
       "      <td>7457</td>\n",
       "      <td>9154</td>\n",
       "      <td>11637</td>\n",
       "      <td>14010</td>\n",
       "      <td>17615</td>\n",
       "      <td>20834</td>\n",
       "      <td>25545</td>\n",
       "    </tr>\n",
       "    <tr>\n",
       "      <th>7</th>\n",
       "      <td>42</td>\n",
       "      <td>58</td>\n",
       "      <td>74</td>\n",
       "      <td>104</td>\n",
       "      <td>138</td>\n",
       "      <td>220</td>\n",
       "      <td>344</td>\n",
       "    </tr>\n",
       "    <tr>\n",
       "      <th>8</th>\n",
       "      <td>49</td>\n",
       "      <td>37</td>\n",
       "      <td>63</td>\n",
       "      <td>79</td>\n",
       "      <td>102</td>\n",
       "      <td>158</td>\n",
       "      <td>243</td>\n",
       "    </tr>\n",
       "    <tr>\n",
       "      <th>9</th>\n",
       "      <td>1744</td>\n",
       "      <td>2659</td>\n",
       "      <td>4066</td>\n",
       "      <td>6220</td>\n",
       "      <td>9421</td>\n",
       "      <td>13851</td>\n",
       "      <td>16788</td>\n",
       "    </tr>\n",
       "    <tr>\n",
       "      <th>10</th>\n",
       "      <td>547</td>\n",
       "      <td>590</td>\n",
       "      <td>795</td>\n",
       "      <td>1008</td>\n",
       "      <td>1170</td>\n",
       "      <td>1348</td>\n",
       "      <td>1459</td>\n",
       "    </tr>\n",
       "    <tr>\n",
       "      <th>11</th>\n",
       "      <td>16263</td>\n",
       "      <td>20633</td>\n",
       "      <td>26697</td>\n",
       "      <td>34086</td>\n",
       "      <td>41310</td>\n",
       "      <td>50671</td>\n",
       "      <td>60440</td>\n",
       "    </tr>\n",
       "    <tr>\n",
       "      <th>12</th>\n",
       "      <td>5674</td>\n",
       "      <td>7591</td>\n",
       "      <td>10036</td>\n",
       "      <td>12922</td>\n",
       "      <td>16464</td>\n",
       "      <td>21145</td>\n",
       "      <td>25351</td>\n",
       "    </tr>\n",
       "    <tr>\n",
       "      <th>13</th>\n",
       "      <td>2386</td>\n",
       "      <td>2812</td>\n",
       "      <td>3460</td>\n",
       "      <td>4281</td>\n",
       "      <td>5171</td>\n",
       "      <td>6078</td>\n",
       "      <td>6865</td>\n",
       "    </tr>\n",
       "    <tr>\n",
       "      <th>14</th>\n",
       "      <td>3254</td>\n",
       "      <td>3561</td>\n",
       "      <td>4617</td>\n",
       "      <td>5987</td>\n",
       "      <td>7837</td>\n",
       "      <td>10144</td>\n",
       "      <td>12541</td>\n",
       "    </tr>\n",
       "    <tr>\n",
       "      <th>15</th>\n",
       "      <td>9697</td>\n",
       "      <td>11606</td>\n",
       "      <td>14227</td>\n",
       "      <td>17612</td>\n",
       "      <td>21844</td>\n",
       "      <td>26946</td>\n",
       "      <td>32988</td>\n",
       "    </tr>\n",
       "    <tr>\n",
       "      <th>16</th>\n",
       "      <td>19402</td>\n",
       "      <td>23587</td>\n",
       "      <td>29299</td>\n",
       "      <td>37136</td>\n",
       "      <td>44977</td>\n",
       "      <td>52851</td>\n",
       "      <td>61095</td>\n",
       "    </tr>\n",
       "    <tr>\n",
       "      <th>17</th>\n",
       "      <td>13549</td>\n",
       "      <td>16904</td>\n",
       "      <td>21347</td>\n",
       "      <td>25454</td>\n",
       "      <td>29099</td>\n",
       "      <td>31841</td>\n",
       "      <td>33406</td>\n",
       "    </tr>\n",
       "    <tr>\n",
       "      <th>18</th>\n",
       "      <td>21</td>\n",
       "      <td>24</td>\n",
       "      <td>32</td>\n",
       "      <td>40</td>\n",
       "      <td>52</td>\n",
       "      <td>61</td>\n",
       "      <td>64</td>\n",
       "    </tr>\n",
       "    <tr>\n",
       "      <th>19</th>\n",
       "      <td>18615</td>\n",
       "      <td>23218</td>\n",
       "      <td>30017</td>\n",
       "      <td>38169</td>\n",
       "      <td>48566</td>\n",
       "      <td>60348</td>\n",
       "      <td>72627</td>\n",
       "    </tr>\n",
       "    <tr>\n",
       "      <th>20</th>\n",
       "      <td>32003</td>\n",
       "      <td>39554</td>\n",
       "      <td>50412</td>\n",
       "      <td>62783</td>\n",
       "      <td>78937</td>\n",
       "      <td>96879</td>\n",
       "      <td>112374</td>\n",
       "    </tr>\n",
       "    <tr>\n",
       "      <th>21</th>\n",
       "      <td>578</td>\n",
       "      <td>780</td>\n",
       "      <td>1073</td>\n",
       "      <td>1421</td>\n",
       "      <td>1837</td>\n",
       "      <td>2294</td>\n",
       "      <td>2856</td>\n",
       "    </tr>\n",
       "    <tr>\n",
       "      <th>22</th>\n",
       "      <td>606</td>\n",
       "      <td>769</td>\n",
       "      <td>1012</td>\n",
       "      <td>1336</td>\n",
       "      <td>1775</td>\n",
       "      <td>2319</td>\n",
       "      <td>2967</td>\n",
       "    </tr>\n",
       "    <tr>\n",
       "      <th>23</th>\n",
       "      <td>196</td>\n",
       "      <td>266</td>\n",
       "      <td>332</td>\n",
       "      <td>494</td>\n",
       "      <td>690</td>\n",
       "      <td>889</td>\n",
       "      <td>1097</td>\n",
       "    </tr>\n",
       "    <tr>\n",
       "      <th>24</th>\n",
       "      <td>213</td>\n",
       "      <td>369</td>\n",
       "      <td>516</td>\n",
       "      <td>775</td>\n",
       "      <td>1210</td>\n",
       "      <td>1990</td>\n",
       "      <td>1979</td>\n",
       "    </tr>\n",
       "    <tr>\n",
       "      <th>25</th>\n",
       "      <td>14646</td>\n",
       "      <td>17549</td>\n",
       "      <td>21945</td>\n",
       "      <td>26370</td>\n",
       "      <td>31660</td>\n",
       "      <td>36805</td>\n",
       "      <td>41974</td>\n",
       "    </tr>\n",
       "    <tr>\n",
       "      <th>26</th>\n",
       "      <td>317</td>\n",
       "      <td>369</td>\n",
       "      <td>472</td>\n",
       "      <td>604</td>\n",
       "      <td>808</td>\n",
       "      <td>974</td>\n",
       "      <td>1248</td>\n",
       "    </tr>\n",
       "    <tr>\n",
       "      <th>27</th>\n",
       "      <td>9161</td>\n",
       "      <td>11135</td>\n",
       "      <td>13551</td>\n",
       "      <td>16789</td>\n",
       "      <td>20282</td>\n",
       "      <td>24359</td>\n",
       "      <td>27743</td>\n",
       "    </tr>\n",
       "    <tr>\n",
       "      <th>28</th>\n",
       "      <td>15971</td>\n",
       "      <td>20156</td>\n",
       "      <td>25766</td>\n",
       "      <td>34262</td>\n",
       "      <td>44006</td>\n",
       "      <td>56507</td>\n",
       "      <td>68548</td>\n",
       "    </tr>\n",
       "    <tr>\n",
       "      <th>29</th>\n",
       "      <td>138</td>\n",
       "      <td>162</td>\n",
       "      <td>210</td>\n",
       "      <td>316</td>\n",
       "      <td>406</td>\n",
       "      <td>541</td>\n",
       "      <td>611</td>\n",
       "    </tr>\n",
       "    <tr>\n",
       "      <th>30</th>\n",
       "      <td>30119</td>\n",
       "      <td>33687</td>\n",
       "      <td>41199</td>\n",
       "      <td>48408</td>\n",
       "      <td>55859</td>\n",
       "      <td>62406</td>\n",
       "      <td>72147</td>\n",
       "    </tr>\n",
       "    <tr>\n",
       "      <th>31</th>\n",
       "      <td>639</td>\n",
       "      <td>1142</td>\n",
       "      <td>1556</td>\n",
       "      <td>2053</td>\n",
       "      <td>2757</td>\n",
       "      <td>3199</td>\n",
       "      <td>3674</td>\n",
       "    </tr>\n",
       "    <tr>\n",
       "      <th>32</th>\n",
       "      <td>60274</td>\n",
       "      <td>70144</td>\n",
       "      <td>83849</td>\n",
       "      <td>105137</td>\n",
       "      <td>132062</td>\n",
       "      <td>166198</td>\n",
       "      <td>199812</td>\n",
       "    </tr>\n",
       "    <tr>\n",
       "      <th>33</th>\n",
       "      <td>2946</td>\n",
       "      <td>3611</td>\n",
       "      <td>4493</td>\n",
       "      <td>5726</td>\n",
       "      <td>7051</td>\n",
       "      <td>8489</td>\n",
       "      <td>10086</td>\n",
       "    </tr>\n",
       "    <tr>\n",
       "      <th>34</th>\n",
       "      <td>26300</td>\n",
       "      <td>34926</td>\n",
       "      <td>44312</td>\n",
       "      <td>54581</td>\n",
       "      <td>68078</td>\n",
       "      <td>80176</td>\n",
       "      <td>91276</td>\n",
       "    </tr>\n",
       "    <tr>\n",
       "      <th>35</th>\n",
       "      <td>361088</td>\n",
       "      <td>439235</td>\n",
       "      <td>548160</td>\n",
       "      <td>683329</td>\n",
       "      <td>846421</td>\n",
       "      <td>1028737</td>\n",
       "      <td>1210855</td>\n",
       "    </tr>\n",
       "  </tbody>\n",
       "</table>\n",
       "</div>"
      ],
      "text/plain": [
       "         0       1       2       3       4        5        6\n",
       "0       31      64     115     189     281      356      381\n",
       "1    31115   35983   43503   53551   66508    76210    84581\n",
       "2        0     337     468     632     865     1098     1384\n",
       "3     8029   10837   14625   18041   22414    26656    31206\n",
       "4    29085   34841   42126   52303   64531    82999   104099\n",
       "5       24     120     257     452     642      901     1055\n",
       "6     7457    9154   11637   14010   17615    20834    25545\n",
       "7       42      58      74     104     138      220      344\n",
       "8       49      37      63      79     102      158      243\n",
       "9     1744    2659    4066    6220    9421    13851    16788\n",
       "10     547     590     795    1008    1170     1348     1459\n",
       "11   16263   20633   26697   34086   41310    50671    60440\n",
       "12    5674    7591   10036   12922   16464    21145    25351\n",
       "13    2386    2812    3460    4281    5171     6078     6865\n",
       "14    3254    3561    4617    5987    7837    10144    12541\n",
       "15    9697   11606   14227   17612   21844    26946    32988\n",
       "16   19402   23587   29299   37136   44977    52851    61095\n",
       "17   13549   16904   21347   25454   29099    31841    33406\n",
       "18      21      24      32      40      52       61       64\n",
       "19   18615   23218   30017   38169   48566    60348    72627\n",
       "20   32003   39554   50412   62783   78937    96879   112374\n",
       "21     578     780    1073    1421    1837     2294     2856\n",
       "22     606     769    1012    1336    1775     2319     2967\n",
       "23     196     266     332     494     690      889     1097\n",
       "24     213     369     516     775    1210     1990     1979\n",
       "25   14646   17549   21945   26370   31660    36805    41974\n",
       "26     317     369     472     604     808      974     1248\n",
       "27    9161   11135   13551   16789   20282    24359    27743\n",
       "28   15971   20156   25766   34262   44006    56507    68548\n",
       "29     138     162     210     316     406      541      611\n",
       "30   30119   33687   41199   48408   55859    62406    72147\n",
       "31     639    1142    1556    2053    2757     3199     3674\n",
       "32   60274   70144   83849  105137  132062   166198   199812\n",
       "33    2946    3611    4493    5726    7051     8489    10086\n",
       "34   26300   34926   44312   54581   68078    80176    91276\n",
       "35  361088  439235  548160  683329  846421  1028737  1210855"
      ]
     },
     "execution_count": 26,
     "metadata": {},
     "output_type": "execute_result"
    }
   ],
   "source": [
    "df.years.apply(pd.Series)\n",
    "# to covert the lists in different columns!! INFUCKING CREDIBLE"
   ]
  },
  {
   "cell_type": "code",
   "execution_count": 27,
   "id": "1cae4fc1",
   "metadata": {},
   "outputs": [
    {
     "data": {
      "text/plain": [
       "(1951, 1961, 1971, 1981, 1991, 2001, 2011)"
      ]
     },
     "execution_count": 27,
     "metadata": {},
     "output_type": "execute_result"
    }
   ],
   "source": [
    "1951, 1961, 1971, 1981, 1991, 2001, 2011"
   ]
  }
 ],
 "metadata": {
  "kernelspec": {
   "display_name": "ironhack",
   "language": "python",
   "name": "ironhack"
  },
  "language_info": {
   "codemirror_mode": {
    "name": "ipython",
    "version": 3
   },
   "file_extension": ".py",
   "mimetype": "text/x-python",
   "name": "python",
   "nbconvert_exporter": "python",
   "pygments_lexer": "ipython3",
   "version": "3.9.7"
  }
 },
 "nbformat": 4,
 "nbformat_minor": 5
}
