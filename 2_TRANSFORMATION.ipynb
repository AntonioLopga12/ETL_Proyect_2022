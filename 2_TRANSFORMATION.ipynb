{
 "cells": [
  {
   "cell_type": "markdown",
   "id": "e6556288",
   "metadata": {},
   "source": [
    "## 2_TRANSFORMATION."
   ]
  },
  {
   "cell_type": "code",
   "execution_count": 1,
   "id": "38886900",
   "metadata": {},
   "outputs": [],
   "source": [
    "import pandas as pd"
   ]
  },
  {
   "cell_type": "markdown",
   "id": "26628c98",
   "metadata": {},
   "source": [
    "#### 1. Table_1 POPULATION EVOLUTION INDIA"
   ]
  },
  {
   "cell_type": "code",
   "execution_count": 2,
   "id": "0b4b4bbc",
   "metadata": {},
   "outputs": [],
   "source": [
    "df_n_1 = pd.read_csv('data/DF_India_Population_Extrac.csv',encoding = \"ISO-8859-1\")"
   ]
  },
  {
   "cell_type": "code",
   "execution_count": 3,
   "id": "9e59ee03",
   "metadata": {},
   "outputs": [],
   "source": [
    "df_c = pd.read_csv('data/DF_India_States.csv',encoding = \"ISO-8859-1\")"
   ]
  },
  {
   "cell_type": "code",
   "execution_count": 4,
   "id": "29cb5608",
   "metadata": {
    "scrolled": true
   },
   "outputs": [
    {
     "data": {
      "text/html": [
       "<div>\n",
       "<style scoped>\n",
       "    .dataframe tbody tr th:only-of-type {\n",
       "        vertical-align: middle;\n",
       "    }\n",
       "\n",
       "    .dataframe tbody tr th {\n",
       "        vertical-align: top;\n",
       "    }\n",
       "\n",
       "    .dataframe thead th {\n",
       "        text-align: right;\n",
       "    }\n",
       "</style>\n",
       "<table border=\"1\" class=\"dataframe\">\n",
       "  <thead>\n",
       "    <tr style=\"text-align: right;\">\n",
       "      <th></th>\n",
       "      <th>States</th>\n",
       "    </tr>\n",
       "  </thead>\n",
       "  <tbody>\n",
       "    <tr>\n",
       "      <th>22</th>\n",
       "      <td>Meghalaya</td>\n",
       "    </tr>\n",
       "  </tbody>\n",
       "</table>\n",
       "</div>"
      ],
      "text/plain": [
       "       States\n",
       "22  Meghalaya"
      ]
     },
     "execution_count": 4,
     "metadata": {},
     "output_type": "execute_result"
    }
   ],
   "source": [
    "df_c.sample()"
   ]
  },
  {
   "cell_type": "code",
   "execution_count": 5,
   "id": "f3c14ea3",
   "metadata": {},
   "outputs": [
    {
     "data": {
      "text/html": [
       "<div>\n",
       "<style scoped>\n",
       "    .dataframe tbody tr th:only-of-type {\n",
       "        vertical-align: middle;\n",
       "    }\n",
       "\n",
       "    .dataframe tbody tr th {\n",
       "        vertical-align: top;\n",
       "    }\n",
       "\n",
       "    .dataframe thead th {\n",
       "        text-align: right;\n",
       "    }\n",
       "</style>\n",
       "<table border=\"1\" class=\"dataframe\">\n",
       "  <thead>\n",
       "    <tr style=\"text-align: right;\">\n",
       "      <th></th>\n",
       "      <th>1951</th>\n",
       "      <th>1961</th>\n",
       "      <th>1971</th>\n",
       "      <th>1981</th>\n",
       "      <th>1991</th>\n",
       "      <th>2001</th>\n",
       "      <th>2011</th>\n",
       "    </tr>\n",
       "  </thead>\n",
       "  <tbody>\n",
       "    <tr>\n",
       "      <th>0</th>\n",
       "      <td>31</td>\n",
       "      <td>64</td>\n",
       "      <td>115</td>\n",
       "      <td>189</td>\n",
       "      <td>281</td>\n",
       "      <td>356</td>\n",
       "      <td>381</td>\n",
       "    </tr>\n",
       "  </tbody>\n",
       "</table>\n",
       "</div>"
      ],
      "text/plain": [
       "   1951  1961  1971  1981  1991  2001  2011\n",
       "0    31    64   115   189   281   356   381"
      ]
     },
     "execution_count": 5,
     "metadata": {},
     "output_type": "execute_result"
    }
   ],
   "source": [
    "df_n_1.sample()"
   ]
  },
  {
   "cell_type": "code",
   "execution_count": 6,
   "id": "5896db1e",
   "metadata": {
    "scrolled": true
   },
   "outputs": [],
   "source": [
    "df_popul = pd.concat([df_c, df_n_1], axis=1, join='inner')"
   ]
  },
  {
   "cell_type": "code",
   "execution_count": 7,
   "id": "cd24d446",
   "metadata": {},
   "outputs": [],
   "source": [
    "df_population = pd.DataFrame(df_popul)"
   ]
  },
  {
   "cell_type": "code",
   "execution_count": 8,
   "id": "33153be6",
   "metadata": {
    "scrolled": false
   },
   "outputs": [
    {
     "data": {
      "text/html": [
       "<div>\n",
       "<style scoped>\n",
       "    .dataframe tbody tr th:only-of-type {\n",
       "        vertical-align: middle;\n",
       "    }\n",
       "\n",
       "    .dataframe tbody tr th {\n",
       "        vertical-align: top;\n",
       "    }\n",
       "\n",
       "    .dataframe thead th {\n",
       "        text-align: right;\n",
       "    }\n",
       "</style>\n",
       "<table border=\"1\" class=\"dataframe\">\n",
       "  <thead>\n",
       "    <tr style=\"text-align: right;\">\n",
       "      <th></th>\n",
       "      <th>States</th>\n",
       "      <th>1951</th>\n",
       "      <th>1961</th>\n",
       "      <th>1971</th>\n",
       "      <th>1981</th>\n",
       "      <th>1991</th>\n",
       "      <th>2001</th>\n",
       "      <th>2011</th>\n",
       "    </tr>\n",
       "  </thead>\n",
       "  <tbody>\n",
       "    <tr>\n",
       "      <th>15</th>\n",
       "      <td>Jharkhand</td>\n",
       "      <td>9697</td>\n",
       "      <td>11606</td>\n",
       "      <td>14227</td>\n",
       "      <td>17612</td>\n",
       "      <td>21844</td>\n",
       "      <td>26946</td>\n",
       "      <td>32988</td>\n",
       "    </tr>\n",
       "    <tr>\n",
       "      <th>7</th>\n",
       "      <td>Dadra and Nagar Haveli</td>\n",
       "      <td>42</td>\n",
       "      <td>58</td>\n",
       "      <td>74</td>\n",
       "      <td>104</td>\n",
       "      <td>138</td>\n",
       "      <td>220</td>\n",
       "      <td>344</td>\n",
       "    </tr>\n",
       "    <tr>\n",
       "      <th>1</th>\n",
       "      <td>Andhra Pradesh</td>\n",
       "      <td>31115</td>\n",
       "      <td>35983</td>\n",
       "      <td>43503</td>\n",
       "      <td>53551</td>\n",
       "      <td>66508</td>\n",
       "      <td>76210</td>\n",
       "      <td>84581</td>\n",
       "    </tr>\n",
       "  </tbody>\n",
       "</table>\n",
       "</div>"
      ],
      "text/plain": [
       "                    States   1951   1961   1971   1981   1991   2001   2011\n",
       "15               Jharkhand   9697  11606  14227  17612  21844  26946  32988\n",
       "7   Dadra and Nagar Haveli     42     58     74    104    138    220    344\n",
       "1           Andhra Pradesh  31115  35983  43503  53551  66508  76210  84581"
      ]
     },
     "execution_count": 8,
     "metadata": {},
     "output_type": "execute_result"
    }
   ],
   "source": [
    "df_population.sample(3)"
   ]
  },
  {
   "cell_type": "markdown",
   "id": "7771fb66",
   "metadata": {},
   "source": [
    "* I sorted the data by State names, in ascending order. Although it wasn't strictly nessesary, since the Pandas 'merge()' method, will automatically, match the value names that are equal. Even though sortering the data was useful to have a clear view of the merging process. "
   ]
  },
  {
   "cell_type": "code",
   "execution_count": 9,
   "id": "0f869b11",
   "metadata": {},
   "outputs": [],
   "source": [
    "df_population.sort_values(by=\"States\",ascending=True, inplace=True)\n"
   ]
  },
  {
   "cell_type": "code",
   "execution_count": 10,
   "id": "1f846fcb",
   "metadata": {},
   "outputs": [
    {
     "data": {
      "text/html": [
       "<div>\n",
       "<style scoped>\n",
       "    .dataframe tbody tr th:only-of-type {\n",
       "        vertical-align: middle;\n",
       "    }\n",
       "\n",
       "    .dataframe tbody tr th {\n",
       "        vertical-align: top;\n",
       "    }\n",
       "\n",
       "    .dataframe thead th {\n",
       "        text-align: right;\n",
       "    }\n",
       "</style>\n",
       "<table border=\"1\" class=\"dataframe\">\n",
       "  <thead>\n",
       "    <tr style=\"text-align: right;\">\n",
       "      <th></th>\n",
       "      <th>States</th>\n",
       "      <th>1951</th>\n",
       "      <th>1961</th>\n",
       "      <th>1971</th>\n",
       "      <th>1981</th>\n",
       "      <th>1991</th>\n",
       "      <th>2001</th>\n",
       "      <th>2011</th>\n",
       "    </tr>\n",
       "  </thead>\n",
       "  <tbody>\n",
       "    <tr>\n",
       "      <th>14</th>\n",
       "      <td>Jammu and Kashmir</td>\n",
       "      <td>3254</td>\n",
       "      <td>3561</td>\n",
       "      <td>4617</td>\n",
       "      <td>5987</td>\n",
       "      <td>7837</td>\n",
       "      <td>10144</td>\n",
       "      <td>12541</td>\n",
       "    </tr>\n",
       "    <tr>\n",
       "      <th>2</th>\n",
       "      <td>Arunachal Pradesh</td>\n",
       "      <td>0</td>\n",
       "      <td>337</td>\n",
       "      <td>468</td>\n",
       "      <td>632</td>\n",
       "      <td>865</td>\n",
       "      <td>1098</td>\n",
       "      <td>1384</td>\n",
       "    </tr>\n",
       "  </tbody>\n",
       "</table>\n",
       "</div>"
      ],
      "text/plain": [
       "               States  1951  1961  1971  1981  1991   2001   2011\n",
       "14  Jammu and Kashmir  3254  3561  4617  5987  7837  10144  12541\n",
       "2   Arunachal Pradesh     0   337   468   632   865   1098   1384"
      ]
     },
     "execution_count": 10,
     "metadata": {},
     "output_type": "execute_result"
    }
   ],
   "source": [
    "df_population.reset_index(drop=True).sample(2)"
   ]
  },
  {
   "cell_type": "code",
   "execution_count": 11,
   "id": "cb65b1f4",
   "metadata": {},
   "outputs": [
    {
     "data": {
      "text/html": [
       "<div>\n",
       "<style scoped>\n",
       "    .dataframe tbody tr th:only-of-type {\n",
       "        vertical-align: middle;\n",
       "    }\n",
       "\n",
       "    .dataframe tbody tr th {\n",
       "        vertical-align: top;\n",
       "    }\n",
       "\n",
       "    .dataframe thead th {\n",
       "        text-align: right;\n",
       "    }\n",
       "</style>\n",
       "<table border=\"1\" class=\"dataframe\">\n",
       "  <thead>\n",
       "    <tr style=\"text-align: right;\">\n",
       "      <th></th>\n",
       "      <th>States</th>\n",
       "      <th>1951</th>\n",
       "      <th>1961</th>\n",
       "      <th>1971</th>\n",
       "      <th>1981</th>\n",
       "      <th>1991</th>\n",
       "      <th>2001</th>\n",
       "      <th>2011</th>\n",
       "    </tr>\n",
       "  </thead>\n",
       "  <tbody>\n",
       "    <tr>\n",
       "      <th>29</th>\n",
       "      <td>Sikkim</td>\n",
       "      <td>138</td>\n",
       "      <td>162</td>\n",
       "      <td>210</td>\n",
       "      <td>316</td>\n",
       "      <td>406</td>\n",
       "      <td>541</td>\n",
       "      <td>611</td>\n",
       "    </tr>\n",
       "    <tr>\n",
       "      <th>4</th>\n",
       "      <td>Bihar</td>\n",
       "      <td>29085</td>\n",
       "      <td>34841</td>\n",
       "      <td>42126</td>\n",
       "      <td>52303</td>\n",
       "      <td>64531</td>\n",
       "      <td>82999</td>\n",
       "      <td>104099</td>\n",
       "    </tr>\n",
       "    <tr>\n",
       "      <th>10</th>\n",
       "      <td>Goa</td>\n",
       "      <td>547</td>\n",
       "      <td>590</td>\n",
       "      <td>795</td>\n",
       "      <td>1008</td>\n",
       "      <td>1170</td>\n",
       "      <td>1348</td>\n",
       "      <td>1459</td>\n",
       "    </tr>\n",
       "  </tbody>\n",
       "</table>\n",
       "</div>"
      ],
      "text/plain": [
       "    States   1951   1961   1971   1981   1991   2001    2011\n",
       "29  Sikkim    138    162    210    316    406    541     611\n",
       "4    Bihar  29085  34841  42126  52303  64531  82999  104099\n",
       "10     Goa    547    590    795   1008   1170   1348    1459"
      ]
     },
     "execution_count": 11,
     "metadata": {},
     "output_type": "execute_result"
    }
   ],
   "source": [
    "df_population.sample(3)"
   ]
  },
  {
   "cell_type": "code",
   "execution_count": 12,
   "id": "5e2238d8",
   "metadata": {},
   "outputs": [
    {
     "data": {
      "text/plain": [
       "(35, 8)"
      ]
     },
     "execution_count": 12,
     "metadata": {},
     "output_type": "execute_result"
    }
   ],
   "source": [
    "df_population.shape"
   ]
  },
  {
   "cell_type": "code",
   "execution_count": 13,
   "id": "14324ba2",
   "metadata": {},
   "outputs": [],
   "source": [
    "df_population.to_csv('data/DF_India_Population.csv',index=False)"
   ]
  },
  {
   "cell_type": "markdown",
   "id": "0b3d2894",
   "metadata": {},
   "source": [
    "#### 2. Table_2 INDIA EVOLUTION ECONOMY"
   ]
  },
  {
   "cell_type": "code",
   "execution_count": 14,
   "id": "ebbc7821",
   "metadata": {},
   "outputs": [],
   "source": [
    "df_economy = pd.read_csv(\"data/DF_India_nsdp_per_capita_Extract.csv\",encoding = \"ISO-8859-1\")\n"
   ]
  },
  {
   "cell_type": "code",
   "execution_count": 15,
   "id": "6f62c24b",
   "metadata": {},
   "outputs": [],
   "source": [
    "df_economy.sort_values(by=\"State\",ascending=True, inplace=True)"
   ]
  },
  {
   "cell_type": "code",
   "execution_count": 16,
   "id": "c1f845e5",
   "metadata": {},
   "outputs": [
    {
     "data": {
      "text/html": [
       "<div>\n",
       "<style scoped>\n",
       "    .dataframe tbody tr th:only-of-type {\n",
       "        vertical-align: middle;\n",
       "    }\n",
       "\n",
       "    .dataframe tbody tr th {\n",
       "        vertical-align: top;\n",
       "    }\n",
       "\n",
       "    .dataframe thead th {\n",
       "        text-align: right;\n",
       "    }\n",
       "</style>\n",
       "<table border=\"1\" class=\"dataframe\">\n",
       "  <thead>\n",
       "    <tr style=\"text-align: right;\">\n",
       "      <th></th>\n",
       "      <th>State</th>\n",
       "      <th>1996_to_1997</th>\n",
       "      <th>2000_to_2001</th>\n",
       "      <th>2005_to_2006</th>\n",
       "      <th>2010_to_2011</th>\n",
       "      <th>Growth_from_2000_to_2010</th>\n",
       "    </tr>\n",
       "  </thead>\n",
       "  <tbody>\n",
       "    <tr>\n",
       "      <th>0</th>\n",
       "      <td>Andaman and Nicobar Islands</td>\n",
       "      <td>21017</td>\n",
       "      <td>25047</td>\n",
       "      <td>44754</td>\n",
       "      <td>80558</td>\n",
       "      <td>283%</td>\n",
       "    </tr>\n",
       "  </tbody>\n",
       "</table>\n",
       "</div>"
      ],
      "text/plain": [
       "                         State  1996_to_1997  2000_to_2001  2005_to_2006  \\\n",
       "0  Andaman and Nicobar Islands         21017         25047         44754   \n",
       "\n",
       "   2010_to_2011 Growth_from_2000_to_2010  \n",
       "0         80558                     283%  "
      ]
     },
     "execution_count": 16,
     "metadata": {},
     "output_type": "execute_result"
    }
   ],
   "source": [
    "df_economy.reset_index(drop=True).head(1)"
   ]
  },
  {
   "cell_type": "code",
   "execution_count": 17,
   "id": "ee144ced",
   "metadata": {},
   "outputs": [
    {
     "data": {
      "text/html": [
       "<div>\n",
       "<style scoped>\n",
       "    .dataframe tbody tr th:only-of-type {\n",
       "        vertical-align: middle;\n",
       "    }\n",
       "\n",
       "    .dataframe tbody tr th {\n",
       "        vertical-align: top;\n",
       "    }\n",
       "\n",
       "    .dataframe thead th {\n",
       "        text-align: right;\n",
       "    }\n",
       "</style>\n",
       "<table border=\"1\" class=\"dataframe\">\n",
       "  <thead>\n",
       "    <tr style=\"text-align: right;\">\n",
       "      <th></th>\n",
       "      <th>State</th>\n",
       "      <th>1996_to_1997</th>\n",
       "      <th>2000_to_2001</th>\n",
       "      <th>2005_to_2006</th>\n",
       "      <th>2010_to_2011</th>\n",
       "      <th>Growth_from_2000_to_2010</th>\n",
       "    </tr>\n",
       "  </thead>\n",
       "  <tbody>\n",
       "    <tr>\n",
       "      <th>14</th>\n",
       "      <td>Andaman and Nicobar Islands</td>\n",
       "      <td>21017</td>\n",
       "      <td>25047</td>\n",
       "      <td>44754</td>\n",
       "      <td>80558</td>\n",
       "      <td>283%</td>\n",
       "    </tr>\n",
       "  </tbody>\n",
       "</table>\n",
       "</div>"
      ],
      "text/plain": [
       "                          State  1996_to_1997  2000_to_2001  2005_to_2006  \\\n",
       "14  Andaman and Nicobar Islands         21017         25047         44754   \n",
       "\n",
       "    2010_to_2011 Growth_from_2000_to_2010  \n",
       "14         80558                     283%  "
      ]
     },
     "execution_count": 17,
     "metadata": {},
     "output_type": "execute_result"
    }
   ],
   "source": [
    "df_economy.head(1)"
   ]
  },
  {
   "cell_type": "code",
   "execution_count": 18,
   "id": "b4739225",
   "metadata": {},
   "outputs": [
    {
     "data": {
      "text/plain": [
       "(33, 6)"
      ]
     },
     "execution_count": 18,
     "metadata": {},
     "output_type": "execute_result"
    }
   ],
   "source": [
    "df_economy.shape"
   ]
  },
  {
   "cell_type": "code",
   "execution_count": 19,
   "id": "e1cb27a2",
   "metadata": {},
   "outputs": [],
   "source": [
    "df_economy.to_csv('data/DF_India_Economy.csv',index=False)"
   ]
  },
  {
   "cell_type": "markdown",
   "id": "bbae0150",
   "metadata": {},
   "source": [
    "#####  MERGING_1, POPULATION EVOLUTION INDIA &  NSD PER CAPITA INDIA."
   ]
  },
  {
   "cell_type": "code",
   "execution_count": 20,
   "id": "4c7243ae",
   "metadata": {},
   "outputs": [],
   "source": [
    "MERGE_1 = df_population.merge(df_economy, left_on='States', right_on='State', suffixes=['_izq', 'dcha'])\n",
    "\n"
   ]
  },
  {
   "cell_type": "code",
   "execution_count": 21,
   "id": "862dab35",
   "metadata": {},
   "outputs": [
    {
     "data": {
      "text/html": [
       "<div>\n",
       "<style scoped>\n",
       "    .dataframe tbody tr th:only-of-type {\n",
       "        vertical-align: middle;\n",
       "    }\n",
       "\n",
       "    .dataframe tbody tr th {\n",
       "        vertical-align: top;\n",
       "    }\n",
       "\n",
       "    .dataframe thead th {\n",
       "        text-align: right;\n",
       "    }\n",
       "</style>\n",
       "<table border=\"1\" class=\"dataframe\">\n",
       "  <thead>\n",
       "    <tr style=\"text-align: right;\">\n",
       "      <th></th>\n",
       "      <th>States</th>\n",
       "      <th>1951</th>\n",
       "      <th>1961</th>\n",
       "      <th>1971</th>\n",
       "      <th>1981</th>\n",
       "      <th>1991</th>\n",
       "      <th>2001</th>\n",
       "      <th>2011</th>\n",
       "      <th>State</th>\n",
       "      <th>1996_to_1997</th>\n",
       "      <th>2000_to_2001</th>\n",
       "      <th>2005_to_2006</th>\n",
       "      <th>2010_to_2011</th>\n",
       "      <th>Growth_from_2000_to_2010</th>\n",
       "    </tr>\n",
       "  </thead>\n",
       "  <tbody>\n",
       "    <tr>\n",
       "      <th>0</th>\n",
       "      <td>Andaman and Nicobar Islands</td>\n",
       "      <td>31</td>\n",
       "      <td>64</td>\n",
       "      <td>115</td>\n",
       "      <td>189</td>\n",
       "      <td>281</td>\n",
       "      <td>356</td>\n",
       "      <td>381</td>\n",
       "      <td>Andaman and Nicobar Islands</td>\n",
       "      <td>21017</td>\n",
       "      <td>25047</td>\n",
       "      <td>44754</td>\n",
       "      <td>80558</td>\n",
       "      <td>283%</td>\n",
       "    </tr>\n",
       "    <tr>\n",
       "      <th>1</th>\n",
       "      <td>Andhra Pradesh</td>\n",
       "      <td>31115</td>\n",
       "      <td>35983</td>\n",
       "      <td>43503</td>\n",
       "      <td>53551</td>\n",
       "      <td>66508</td>\n",
       "      <td>76210</td>\n",
       "      <td>84581</td>\n",
       "      <td>Andhra Pradesh</td>\n",
       "      <td>11202</td>\n",
       "      <td>17195</td>\n",
       "      <td>28223</td>\n",
       "      <td>58733</td>\n",
       "      <td>241%</td>\n",
       "    </tr>\n",
       "    <tr>\n",
       "      <th>2</th>\n",
       "      <td>Arunachal Pradesh</td>\n",
       "      <td>0</td>\n",
       "      <td>337</td>\n",
       "      <td>468</td>\n",
       "      <td>632</td>\n",
       "      <td>865</td>\n",
       "      <td>1098</td>\n",
       "      <td>1384</td>\n",
       "      <td>Arunachal Pradesh</td>\n",
       "      <td>10816</td>\n",
       "      <td>15260</td>\n",
       "      <td>28171</td>\n",
       "      <td>60961</td>\n",
       "      <td>299%</td>\n",
       "    </tr>\n",
       "  </tbody>\n",
       "</table>\n",
       "</div>"
      ],
      "text/plain": [
       "                        States   1951   1961   1971   1981   1991   2001  \\\n",
       "0  Andaman and Nicobar Islands     31     64    115    189    281    356   \n",
       "1               Andhra Pradesh  31115  35983  43503  53551  66508  76210   \n",
       "2            Arunachal Pradesh      0    337    468    632    865   1098   \n",
       "\n",
       "    2011                        State  1996_to_1997  2000_to_2001  \\\n",
       "0    381  Andaman and Nicobar Islands         21017         25047   \n",
       "1  84581               Andhra Pradesh         11202         17195   \n",
       "2   1384            Arunachal Pradesh         10816         15260   \n",
       "\n",
       "   2005_to_2006  2010_to_2011 Growth_from_2000_to_2010  \n",
       "0         44754         80558                     283%  \n",
       "1         28223         58733                     241%  \n",
       "2         28171         60961                     299%  "
      ]
     },
     "execution_count": 21,
     "metadata": {},
     "output_type": "execute_result"
    }
   ],
   "source": [
    "MERGE_1.head(3)"
   ]
  },
  {
   "cell_type": "markdown",
   "id": "7125513b",
   "metadata": {},
   "source": [
    "#### 3. Table_3 COVID INCIDENTS BY REGION INDIA"
   ]
  },
  {
   "cell_type": "code",
   "execution_count": 22,
   "id": "24345b6c",
   "metadata": {},
   "outputs": [],
   "source": [
    "df_covid = pd.read_csv(\"data/DF_India_Covid_Incidents_Extract.csv\",encoding = \"ISO-8859-1\")"
   ]
  },
  {
   "cell_type": "code",
   "execution_count": 23,
   "id": "299944ed",
   "metadata": {},
   "outputs": [],
   "source": [
    "df_covid.sort_values(by=\"State\",ascending=True, inplace=True)"
   ]
  },
  {
   "cell_type": "code",
   "execution_count": 24,
   "id": "27cebc43",
   "metadata": {},
   "outputs": [
    {
     "data": {
      "text/html": [
       "<div>\n",
       "<style scoped>\n",
       "    .dataframe tbody tr th:only-of-type {\n",
       "        vertical-align: middle;\n",
       "    }\n",
       "\n",
       "    .dataframe tbody tr th {\n",
       "        vertical-align: top;\n",
       "    }\n",
       "\n",
       "    .dataframe thead th {\n",
       "        text-align: right;\n",
       "    }\n",
       "</style>\n",
       "<table border=\"1\" class=\"dataframe\">\n",
       "  <thead>\n",
       "    <tr style=\"text-align: right;\">\n",
       "      <th></th>\n",
       "      <th>State</th>\n",
       "      <th>Confirmed Cases</th>\n",
       "      <th>Active Cases</th>\n",
       "      <th>Cured</th>\n",
       "      <th>Death</th>\n",
       "    </tr>\n",
       "  </thead>\n",
       "  <tbody>\n",
       "    <tr>\n",
       "      <th>15</th>\n",
       "      <td>Karnataka</td>\n",
       "      <td>3902309</td>\n",
       "      <td>87114</td>\n",
       "      <td>3775799</td>\n",
       "      <td>39396</td>\n",
       "    </tr>\n",
       "  </tbody>\n",
       "</table>\n",
       "</div>"
      ],
      "text/plain": [
       "        State  Confirmed Cases  Active Cases    Cured  Death\n",
       "15  Karnataka          3902309         87114  3775799  39396"
      ]
     },
     "execution_count": 24,
     "metadata": {},
     "output_type": "execute_result"
    }
   ],
   "source": [
    "df_covid.sample()"
   ]
  },
  {
   "cell_type": "code",
   "execution_count": 25,
   "id": "b40b0e88",
   "metadata": {},
   "outputs": [
    {
     "data": {
      "text/plain": [
       "(37, 5)"
      ]
     },
     "execution_count": 25,
     "metadata": {},
     "output_type": "execute_result"
    }
   ],
   "source": [
    "df_covid.shape"
   ]
  },
  {
   "cell_type": "code",
   "execution_count": 26,
   "id": "0db1ce32",
   "metadata": {},
   "outputs": [],
   "source": [
    "df_covid.to_csv('data/DF_India_Covid.csv',index=False)"
   ]
  },
  {
   "cell_type": "markdown",
   "id": "dd9a1b94",
   "metadata": {},
   "source": [
    "#### MERGING_2  POPULATION EVOLUTION INDIA &  NSD PER CAPITA INDIA & COVID INCIDENTS BY REGION INDIA"
   ]
  },
  {
   "cell_type": "code",
   "execution_count": 27,
   "id": "7d56ba57",
   "metadata": {},
   "outputs": [],
   "source": [
    "MERGE_2 = MERGE_1.merge(df_covid, left_on='States', right_on='State', suffixes=['_izq', 'dcha'])"
   ]
  },
  {
   "cell_type": "code",
   "execution_count": 28,
   "id": "79684281",
   "metadata": {
    "scrolled": true
   },
   "outputs": [
    {
     "data": {
      "text/html": [
       "<div>\n",
       "<style scoped>\n",
       "    .dataframe tbody tr th:only-of-type {\n",
       "        vertical-align: middle;\n",
       "    }\n",
       "\n",
       "    .dataframe tbody tr th {\n",
       "        vertical-align: top;\n",
       "    }\n",
       "\n",
       "    .dataframe thead th {\n",
       "        text-align: right;\n",
       "    }\n",
       "</style>\n",
       "<table border=\"1\" class=\"dataframe\">\n",
       "  <thead>\n",
       "    <tr style=\"text-align: right;\">\n",
       "      <th></th>\n",
       "      <th>States</th>\n",
       "      <th>1951</th>\n",
       "      <th>1961</th>\n",
       "      <th>1971</th>\n",
       "      <th>1981</th>\n",
       "      <th>1991</th>\n",
       "      <th>2001</th>\n",
       "      <th>2011</th>\n",
       "      <th>State_izq</th>\n",
       "      <th>1996_to_1997</th>\n",
       "      <th>2000_to_2001</th>\n",
       "      <th>2005_to_2006</th>\n",
       "      <th>2010_to_2011</th>\n",
       "      <th>Growth_from_2000_to_2010</th>\n",
       "      <th>Statedcha</th>\n",
       "      <th>Confirmed Cases</th>\n",
       "      <th>Active Cases</th>\n",
       "      <th>Cured</th>\n",
       "      <th>Death</th>\n",
       "    </tr>\n",
       "  </thead>\n",
       "  <tbody>\n",
       "    <tr>\n",
       "      <th>0</th>\n",
       "      <td>Andaman and Nicobar Islands</td>\n",
       "      <td>31</td>\n",
       "      <td>64</td>\n",
       "      <td>115</td>\n",
       "      <td>189</td>\n",
       "      <td>281</td>\n",
       "      <td>356</td>\n",
       "      <td>381</td>\n",
       "      <td>Andaman and Nicobar Islands</td>\n",
       "      <td>21017</td>\n",
       "      <td>25047</td>\n",
       "      <td>44754</td>\n",
       "      <td>80558</td>\n",
       "      <td>283%</td>\n",
       "      <td>Andaman and Nicobar Islands</td>\n",
       "      <td>9925</td>\n",
       "      <td>192</td>\n",
       "      <td>9604</td>\n",
       "      <td>129</td>\n",
       "    </tr>\n",
       "    <tr>\n",
       "      <th>1</th>\n",
       "      <td>Andhra Pradesh</td>\n",
       "      <td>31115</td>\n",
       "      <td>35983</td>\n",
       "      <td>43503</td>\n",
       "      <td>53551</td>\n",
       "      <td>66508</td>\n",
       "      <td>76210</td>\n",
       "      <td>84581</td>\n",
       "      <td>Andhra Pradesh</td>\n",
       "      <td>11202</td>\n",
       "      <td>17195</td>\n",
       "      <td>28223</td>\n",
       "      <td>58733</td>\n",
       "      <td>241%</td>\n",
       "      <td>Andhra Pradesh</td>\n",
       "      <td>2305052</td>\n",
       "      <td>62395</td>\n",
       "      <td>2227985</td>\n",
       "      <td>14672</td>\n",
       "    </tr>\n",
       "    <tr>\n",
       "      <th>2</th>\n",
       "      <td>Arunachal Pradesh</td>\n",
       "      <td>0</td>\n",
       "      <td>337</td>\n",
       "      <td>468</td>\n",
       "      <td>632</td>\n",
       "      <td>865</td>\n",
       "      <td>1098</td>\n",
       "      <td>1384</td>\n",
       "      <td>Arunachal Pradesh</td>\n",
       "      <td>10816</td>\n",
       "      <td>15260</td>\n",
       "      <td>28171</td>\n",
       "      <td>60961</td>\n",
       "      <td>299%</td>\n",
       "      <td>Arunachal Pradesh</td>\n",
       "      <td>63619</td>\n",
       "      <td>1443</td>\n",
       "      <td>61884</td>\n",
       "      <td>292</td>\n",
       "    </tr>\n",
       "  </tbody>\n",
       "</table>\n",
       "</div>"
      ],
      "text/plain": [
       "                        States   1951   1961   1971   1981   1991   2001  \\\n",
       "0  Andaman and Nicobar Islands     31     64    115    189    281    356   \n",
       "1               Andhra Pradesh  31115  35983  43503  53551  66508  76210   \n",
       "2            Arunachal Pradesh      0    337    468    632    865   1098   \n",
       "\n",
       "    2011                    State_izq  1996_to_1997  2000_to_2001  \\\n",
       "0    381  Andaman and Nicobar Islands         21017         25047   \n",
       "1  84581               Andhra Pradesh         11202         17195   \n",
       "2   1384            Arunachal Pradesh         10816         15260   \n",
       "\n",
       "   2005_to_2006  2010_to_2011 Growth_from_2000_to_2010  \\\n",
       "0         44754         80558                     283%   \n",
       "1         28223         58733                     241%   \n",
       "2         28171         60961                     299%   \n",
       "\n",
       "                     Statedcha  Confirmed Cases  Active Cases    Cured  Death  \n",
       "0  Andaman and Nicobar Islands             9925           192     9604    129  \n",
       "1               Andhra Pradesh          2305052         62395  2227985  14672  \n",
       "2            Arunachal Pradesh            63619          1443    61884    292  "
      ]
     },
     "execution_count": 28,
     "metadata": {},
     "output_type": "execute_result"
    }
   ],
   "source": [
    "MERGE_2.head(3)"
   ]
  }
 ],
 "metadata": {
  "kernelspec": {
   "display_name": "ironhack",
   "language": "python",
   "name": "ironhack"
  },
  "language_info": {
   "codemirror_mode": {
    "name": "ipython",
    "version": 3
   },
   "file_extension": ".py",
   "mimetype": "text/x-python",
   "name": "python",
   "nbconvert_exporter": "python",
   "pygments_lexer": "ipython3",
   "version": "3.9.7"
  }
 },
 "nbformat": 4,
 "nbformat_minor": 5
}
