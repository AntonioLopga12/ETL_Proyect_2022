{
 "cells": [
  {
   "cell_type": "markdown",
   "id": "1de9d7d7",
   "metadata": {},
   "source": [
    "## 3_LOAD"
   ]
  },
  {
   "cell_type": "markdown",
   "id": "3a44469e",
   "metadata": {},
   "source": [
    "##### Tools"
   ]
  },
  {
   "cell_type": "code",
   "execution_count": 3,
   "id": "5652142a",
   "metadata": {},
   "outputs": [],
   "source": [
    "import mysql.connector as mysql # Stablish connection to MySQL\n",
    "\n",
    "from mysql.connector import MySQLConnection # Using class for cunction \n",
    "\n",
    "\n",
    "import mysql.connector as conn # Calling config files???\n",
    "\n",
    "#from python_to_myql_config import read_db_config\n",
    "\n",
    "import pandas as pd\n",
    "\n",
    "import csv"
   ]
  },
  {
   "cell_type": "markdown",
   "id": "fdb9bb84",
   "metadata": {},
   "source": [
    "## ANTES DE CONTINUAR RESOLVER ESTAS DUDAS!!! INTENTA POR TU CUENTA, DESPUES CONTINUA.\n",
    "\n",
    "** EN MySQL Workbench, APARECEN LAS COLUMNAS, PERO NO APARECEN LOS DATOS DENTRO DE LAS COLUMNAS Y EN LA QUERY REALIZADA A LA TABLA DE India_population, PARECE QUE FUNCIONÓ. INVESTIGAR:\n",
    "\n",
    "* MI QUESTION ES, LA PRIMARY KEY, QUE COMPARTIRAN LAS TRES TABLAS, SE DEBE DEFINIR EN TODAS LAS TABLAS ??, SI ES ASI, TENGO QUE BORRAR LA TABLA ANTERIOR ( MIRAR COMO SE BORRA UNA TABLA, Y VOLVER A CREARLA, ESTA VEZ CON LA PK, DEFINIDA. \n",
    "\n",
    "* Por otro lado, la columna de paises que sera las que las tres tablas coompartan, la debere subir en a todas las tablas o por lo contrario, solo la subo una vez y una vez dentro, ya las connecto. Importante antes de seguir con el proceso!!!\n",
    "\n",
    "* VALUES(%s,%s,%s,%s,%s,%s,%s,%s), las %s seria por cada valor en columna, o que significa?? INVESTIGAR!!!!\n",
    "\n"
   ]
  },
  {
   "cell_type": "markdown",
   "id": "f8348662",
   "metadata": {},
   "source": [
    "**CREO NUEVA BASE DE DATOS, LLAMADA india**  "
   ]
  },
  {
   "cell_type": "code",
   "execution_count": null,
   "id": "36ea61d2",
   "metadata": {},
   "outputs": [],
   "source": [
    "#mycursor.execute('create database india')"
   ]
  },
  {
   "cell_type": "markdown",
   "id": "5fbfa3a1",
   "metadata": {},
   "source": [
    "Stablishing connection:\n"
   ]
  },
  {
   "cell_type": "code",
   "execution_count": 16,
   "id": "1f62eb90",
   "metadata": {},
   "outputs": [],
   "source": [
    "cnx = conn.connect(host='localhost',\n",
    "                  user='root',\n",
    "                  password='admin',\n",
    "                  database= 'india')\n",
    "#stablishing connection\n",
    "\n",
    "\n",
    "\n",
    "mycursor = cnx.cursor() # Cursor, allows us to do queries,send/retrive data\n",
    "\n",
    "# To close connection use:  cnx.close()"
   ]
  },
  {
   "cell_type": "code",
   "execution_count": null,
   "id": "92bc8cc1",
   "metadata": {},
   "outputs": [],
   "source": [
    "# IS THE SAME AS 'mymursor' db_config = cnx.cursor() #User credentials "
   ]
  },
  {
   "cell_type": "markdown",
   "id": "237bc834",
   "metadata": {},
   "source": [
    "**Upload data** "
   ]
  },
  {
   "cell_type": "markdown",
   "id": "c314c727",
   "metadata": {},
   "source": [
    "**Create Data Base**"
   ]
  },
  {
   "cell_type": "code",
   "execution_count": 14,
   "id": "0f7e7600",
   "metadata": {},
   "outputs": [],
   "source": []
  },
  {
   "cell_type": "markdown",
   "id": "a763d651",
   "metadata": {},
   "source": [
    "* India Population Growth:"
   ]
  },
  {
   "cell_type": "markdown",
   "id": "abd995bf",
   "metadata": {},
   "source": [
    "**Create Table in MySQL:** \n",
    "** Question: is it okey to put NOT NULL in every column, or is not nessesary?"
   ]
  },
  {
   "cell_type": "code",
   "execution_count": 17,
   "id": "ab49b838",
   "metadata": {},
   "outputs": [],
   "source": [
    "sql_1 = \"\"\" CREATE TABLE India_population(States_India TEXT(50), \n",
    "year_1951 VARCHAR(50), year_1961 VARCHAR(50), year_1971 VARCHAR(50),\n",
    "year_1981 VARCHAR(50), year_1991 VARCHAR(50), year_2001 VARCHAR(50), year_2011 VARCHAR(50))\n",
    "\n",
    "\"\"\"\n",
    "\n",
    "mycursor.execute(sql_1)"
   ]
  },
  {
   "cell_type": "code",
   "execution_count": 18,
   "id": "e4e19230",
   "metadata": {},
   "outputs": [
    {
     "data": {
      "text/plain": [
       "[('India_population',)]"
      ]
     },
     "execution_count": 18,
     "metadata": {},
     "output_type": "execute_result"
    }
   ],
   "source": [
    "mycursor.execute('SHOW TABLES')\n",
    "mycursor.fetchall()"
   ]
  },
  {
   "cell_type": "code",
   "execution_count": 43,
   "id": "02583cf8",
   "metadata": {},
   "outputs": [],
   "source": [
    "df_popul=pd.read_csv('data/DF_India_Population.csv')\n",
    "\n",
    "mycursor.executemany(\"\"\"\n",
    "INSERT INTO India_population(States_India, \n",
    "year_1951, year_1961, year_1971,year_1981, \n",
    "year_1991, year_2001, year_2011) VALUES(%s,%s,%s,%s,%s,%s,%s,%s)\n",
    "\"\"\", list(df_popul.values))"
   ]
  },
  {
   "cell_type": "code",
   "execution_count": 44,
   "id": "96efbe44",
   "metadata": {
    "scrolled": true
   },
   "outputs": [
    {
     "data": {
      "text/plain": [
       "35"
      ]
     },
     "execution_count": 44,
     "metadata": {},
     "output_type": "execute_result"
    }
   ],
   "source": [
    "mycursor.execute('select * from India_population ')\n",
    "len(mycursor.fetchall())"
   ]
  },
  {
   "cell_type": "markdown",
   "id": "da24a621",
   "metadata": {},
   "source": [
    "* India Net State Domestic Product Per Capita."
   ]
  },
  {
   "cell_type": "code",
   "execution_count": null,
   "id": "ce77fc7f",
   "metadata": {},
   "outputs": [],
   "source": [
    "sql_2 = \"\"\" CREATE TABLE India_(States_India TEXT(50), \n",
    "year_1951 VARCHAR(50), year_1961 VARCHAR(50), year_1971 VARCHAR(50),\n",
    "year_1981 VARCHAR(50), year_1991 VARCHAR(50), year_2001 VARCHAR(50), year_2011 VARCHAR(50))\n",
    "\n",
    "\"\"\"\n",
    "\n",
    "mycursor.execute(sql_1)"
   ]
  },
  {
   "cell_type": "code",
   "execution_count": null,
   "id": "863a50b4",
   "metadata": {},
   "outputs": [],
   "source": []
  },
  {
   "cell_type": "code",
   "execution_count": null,
   "id": "de66320c",
   "metadata": {},
   "outputs": [],
   "source": []
  },
  {
   "cell_type": "code",
   "execution_count": null,
   "id": "b689dc53",
   "metadata": {},
   "outputs": [],
   "source": []
  },
  {
   "cell_type": "code",
   "execution_count": null,
   "id": "af3969a0",
   "metadata": {},
   "outputs": [],
   "source": []
  },
  {
   "cell_type": "code",
   "execution_count": null,
   "id": "a639dd73",
   "metadata": {},
   "outputs": [],
   "source": []
  },
  {
   "cell_type": "code",
   "execution_count": null,
   "id": "9e08427b",
   "metadata": {},
   "outputs": [],
   "source": []
  },
  {
   "cell_type": "code",
   "execution_count": null,
   "id": "5ce357a4",
   "metadata": {},
   "outputs": [],
   "source": []
  },
  {
   "cell_type": "code",
   "execution_count": null,
   "id": "97068c1e",
   "metadata": {},
   "outputs": [],
   "source": []
  }
 ],
 "metadata": {
  "kernelspec": {
   "display_name": "ironhack",
   "language": "python",
   "name": "ironhack"
  },
  "language_info": {
   "codemirror_mode": {
    "name": "ipython",
    "version": 3
   },
   "file_extension": ".py",
   "mimetype": "text/x-python",
   "name": "python",
   "nbconvert_exporter": "python",
   "pygments_lexer": "ipython3",
   "version": "3.9.7"
  }
 },
 "nbformat": 4,
 "nbformat_minor": 5
}
