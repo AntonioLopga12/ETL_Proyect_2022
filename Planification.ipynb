{
 "cells": [
  {
   "cell_type": "markdown",
   "id": "f2ab4e95",
   "metadata": {},
   "source": [
    "### ETL Proyect:\n",
    "\n",
    "### Day 1 – Friday.  \n",
    "\n",
    "##### Selection of the data.\n",
    "\n",
    "-\tOrganization of the project,\n",
    "-\tSelection of the main topic and sources;\n",
    "\n",
    "*\tTopic; \n",
    "    - Indian develop trough the years\n",
    "        - Population grouth\n",
    "        - Greouth per capital\n",
    "    - Indian situation of the pandemic\n",
    "    \n",
    "*\tSources;(3 sources)\n",
    "    1. Reserve bank of India: \n",
    "        - Population, \n",
    "            https://m.rbi.org.in/scripts/PublicationsView.aspx?id=20660\n",
    "    2. Wikipedia:\n",
    "        - Economic grouth,\n",
    "            https://en.wikipedia.org/wiki/List_of_Indian_states_and_union_territories_by_GDP_per_capita\n",
    "    3. The new york Times: \n",
    "        - Covid situation,\n",
    "            https://www.nytimes.com/interactive/2021/world/india-covid-cases.html\n",
    "    4. India Stat:\n",
    "        - (If finish in time...)\n",
    "            Estimation of india,china and the world pupulation growth in real time,\n",
    "            https://www.indiastateast.com/Home/Popclockflash \n",
    "    \n",
    "*   Aditional info:\n",
    "    - World Bank: https://www.worldbank.org/en/country/india/overview#3\n",
    "    \n",
    "    \n",
    " \n",
    "    \n",
    "##### EXTRACTION:\n",
    "\n",
    "-\tChoose the method and download the information;(2 methos)\n",
    "    * \t**1st  Method** - Web Scraping with Beautiful Soup.\n",
    "        - \tWikipedia\n",
    "        -\tThe new york Times.\n",
    "    *\t**2nd Method** - \n",
    "        -\t\n",
    "        -\tAPI (Selenium, or former API form a company)\n",
    "\n",
    "##### Exploratory analysis cleaning data;\n",
    "\n",
    "-\tCleaning the data, \n",
    "\n",
    "-\tCreation of a Data frame. \n",
    "\n",
    "* Planification of the links between the tables.\n",
    "    *\t1st Table\n",
    "        -\tColumn_1\n",
    "        -\tColumn_2 (PK)\n",
    "    *\t2nd Table\n",
    "        -\tColumn_1(PK)\n",
    "        -\tColumn_2\n",
    "\n",
    "### Day 2. – Saturday. \n",
    "\n",
    "##### TRANSFORMATION:\n",
    "-   Create a data base in SQL.\n",
    "*   Create the framework in SQL of the 3 entities (tables)\n",
    "-\tDesegregate the data frame.\n",
    "-\tAssign the links between the tables.   \n",
    "-\tPrepare the Tables to upload the to the SQL data base.\n",
    "\n",
    "### Day 3. – Sunday .\n",
    "\n",
    "##### LOAD:\n",
    "\n",
    "-\tUsing python, upload the information to the SQL database, in different tables.\n",
    "-   With a SQL method, join the tables to create a database.\n",
    "\n",
    "\n",
    "### Day 4. – Monday .\n",
    "\n",
    "-\tOrganization of the repository \n",
    "\n",
    "-\tOrganization of folders. \n",
    "\n",
    "\n",
    "-\tWrite the ‘Readme’ document, very important!!!\n",
    "\n",
    "-\tUpload the link of my repository. \n"
   ]
  },
  {
   "cell_type": "code",
   "execution_count": null,
   "id": "32432d94",
   "metadata": {},
   "outputs": [],
   "source": []
  },
  {
   "cell_type": "code",
   "execution_count": 36,
   "id": "da07ef2a",
   "metadata": {},
   "outputs": [],
   "source": [
    "### Tools\n",
    "import requests as req\n",
    "from bs4 import BeautifulSoup as bs\n",
    "import pandas as pd\n",
    "from selenium import webdriver\n",
    "from webdriver_manager.chrome import ChromeDriverManager\n",
    "import warnings   # para quitar warnings\n",
    "from chromedriver_py import binary_path # this will get you the path variable\n",
    "import re"
   ]
  },
  {
   "cell_type": "markdown",
   "id": "58f4cc89",
   "metadata": {},
   "source": [
    "#### Selenium "
   ]
  },
  {
   "cell_type": "code",
   "execution_count": 2,
   "id": "73c0a014",
   "metadata": {
    "scrolled": false
   },
   "outputs": [],
   "source": [
    "#!pip install chromedriver-py"
   ]
  },
  {
   "cell_type": "code",
   "execution_count": 3,
   "id": "a2e9a97e",
   "metadata": {},
   "outputs": [],
   "source": [
    "url = 'https://m.rbi.org.in/scripts/PublicationsView.aspx?id=20660'"
   ]
  },
  {
   "cell_type": "code",
   "execution_count": 4,
   "id": "7f988f4d",
   "metadata": {},
   "outputs": [
    {
     "name": "stderr",
     "output_type": "stream",
     "text": [
      "\n",
      "\n",
      "====== WebDriver manager ======\n",
      "Current google-chrome version is 98.0.4758\n",
      "Get LATEST chromedriver version for 98.0.4758 google-chrome\n",
      "Driver [/Users/antoniolopez/.wdm/drivers/chromedriver/mac64/98.0.4758.80/chromedriver] found in cache\n"
     ]
    }
   ],
   "source": [
    "PATH=ChromeDriverManager().install() #PATH"
   ]
  },
  {
   "cell_type": "code",
   "execution_count": 5,
   "id": "53b82607",
   "metadata": {},
   "outputs": [
    {
     "name": "stderr",
     "output_type": "stream",
     "text": [
      "/var/folders/xt/vx2zkv116hb1jvz92s1nlr2r0000gn/T/ipykernel_38933/1135884956.py:1: DeprecationWarning: executable_path has been deprecated, please pass in a Service object\n",
      "  driver = webdriver.Chrome(PATH) #Driver\n"
     ]
    }
   ],
   "source": [
    "driver = webdriver.Chrome(PATH) #Driver\n",
    "driver.get(url)"
   ]
  },
  {
   "cell_type": "code",
   "execution_count": 6,
   "id": "7cdabae0",
   "metadata": {},
   "outputs": [
    {
     "name": "stderr",
     "output_type": "stream",
     "text": [
      "/var/folders/xt/vx2zkv116hb1jvz92s1nlr2r0000gn/T/ipykernel_38933/1913518297.py:1: DeprecationWarning: find_element_by_* commands are deprecated. Please use find_element() instead\n",
      "  Table = driver.find_element_by_xpath('//*[@id=\"doublescroll\"]/table[2]/tbody/tr[4]/td/table').text\n"
     ]
    }
   ],
   "source": [
    "Table = driver.find_element_by_xpath('//*[@id=\"doublescroll\"]/table[2]/tbody/tr[4]/td/table').text"
   ]
  },
  {
   "cell_type": "code",
   "execution_count": 7,
   "id": "1c5b3926",
   "metadata": {},
   "outputs": [],
   "source": [
    "driver.quit()"
   ]
  },
  {
   "cell_type": "code",
   "execution_count": 22,
   "id": "4039aede",
   "metadata": {
    "scrolled": true
   },
   "outputs": [
    {
     "data": {
      "text/plain": [
       "'(Thousands)\\nState/Union Territory 1951 1961 1971 1981 1991 2001 2011\\nAndaman and Nicobar Islands 31 64 115 189 281 356 381\\nAndhra Pradesh 31115 35983 43503 53551 66508 76210 84581\\nArunachal Pradesh - 337 468 632 865 1098 1384\\nAssam 8029 10837 14625 18041 22414 26656 31206\\nBihar 29085 34841 42126 52303 64531 82999 104099\\nChandigarh 24 120 257 452 642 901 1055\\nChhattisgarh 7457 9154 11637 14010 17615 20834 25545\\nDadra and Nagar Haveli 42 58 74 104 138 220 344\\nDaman and Diu 49 37 63 79 102 158 243\\nDelhi 1744 2659 4066 6220 9421 13851 16788\\nGoa 547 590 795 1008 1170 1348 1459\\nGujarat 16263 20633 26697 34086 41310 50671 60440\\nHaryana 5674 7591 10036 12922 16464 21145 25351\\nHimachal Pradesh 2386 2812 3460 4281 5171 6078 6865\\nJammu and Kashmir 3254 3561 4617 5987 7837 10144 12541\\nJharkhand 9697 11606 14227 17612 21844 26946 32988\\nKarnataka 19402 23587 29299 37136 44977 52851 61095\\nKerala 13549 16904 21347 25454 29099 31841 33406\\nLakshadweep 21 24 32 40 52 61 64\\nMadhya Pradesh 18615 23218 30017 38169 48566 60348 72627\\nMaharashtra 32003 39554 50412 62783 78937 96879 112374\\nManipur 578 780 1073 1421 1837 2294 2856\\nMeghalaya 606 769 1012 1336 1775 2319 2967\\nMizoram 196 266 332 494 690 889 1097\\nNagaland 213 369 516 775 1210 1990 1979\\nOdisha 14646 17549 21945 26370 31660 36805 41974\\nPuducherry 317 369 472 604 808 974 1248\\nPunjab 9161 11135 13551 16789 20282 24359 27743\\nRajasthan 15971 20156 25766 34262 44006 56507 68548\\nSikkim 138 162 210 316 406 541 611\\nTamil Nadu 30119 33687 41199 48408 55859 62406 72147\\nTripura 639 1142 1556 2053 2757 3199 3674\\nUttar Pradesh 60274 70144 83849 105137 132062 166198 199812\\nUttarakhand 2946 3611 4493 5726 7051 8489 10086\\nWest Bengal 26300 34926 44312 54581 68078 80176 91276\\nALL INDIA 361088 439235 548160 683329 846421 1028737 1210855\\n-: Not Available.\\nNotes: 1. In Arunachal Pradesh, the census was conducted for the first time in 1961.\\n2. The 1981 Census could not be held in Assam. Total Population for 1981 has been worked out by Interpolation.\\n3. The 1991 Census could not be held in Jammu and Kashmir. Total Population for 1991 has been worked out by Interpolation.\\n4. India and Manipur figures include estimated population for those of the three sub-divisions viz., Mao Maram, Paomata and Purul of Senapati district of Manipur as census result of 2001 in these three sub-divisions were cancelled due to technical and administrative reasons.\\n5. Efforts have been made to cover newly created States, wherever possible.\\nSource: Economic Survey, Government of India, various issues.'"
      ]
     },
     "execution_count": 22,
     "metadata": {},
     "output_type": "execute_result"
    }
   ],
   "source": [
    "Table"
   ]
  },
  {
   "cell_type": "code",
   "execution_count": 12,
   "id": "1997f33c",
   "metadata": {},
   "outputs": [],
   "source": [
    "step_1_rep = Table.split('\\n') "
   ]
  },
  {
   "cell_type": "code",
   "execution_count": 38,
   "id": "229ca71d",
   "metadata": {
    "scrolled": true
   },
   "outputs": [],
   "source": [
    "table_1 = [[step_1_rep[1:38][i]] for i in range(len(step_1_rep[1:38]))]"
   ]
  },
  {
   "cell_type": "code",
   "execution_count": 40,
   "id": "a3544d80",
   "metadata": {},
   "outputs": [
    {
     "data": {
      "text/plain": [
       "['Andaman and Nicobar Islands 31 64 115 189 281 356 381']"
      ]
     },
     "execution_count": 40,
     "metadata": {},
     "output_type": "execute_result"
    }
   ],
   "source": [
    "table_1[1]"
   ]
  },
  {
   "cell_type": "code",
   "execution_count": null,
   "id": "36997971",
   "metadata": {},
   "outputs": [],
   "source": [
    "#con regex atrapar los nombres de los paises y lo que siga introducirlo como key \n",
    "re.findall(\"[A-Z]\\w+\\/\\w+.+|[A-Z]\\w+.+\\'\", string)"
   ]
  },
  {
   "cell_type": "code",
   "execution_count": null,
   "id": "256bb4bf",
   "metadata": {},
   "outputs": [],
   "source": [
    "table = {re.findall('',k):re.findall('',v) for k,v in zip(Table)}"
   ]
  },
  {
   "cell_type": "code",
   "execution_count": 72,
   "id": "86df95e2",
   "metadata": {},
   "outputs": [],
   "source": [
    "countries = [''.join(re.sub(r'[^a-zA-Z]',' ' , i)) for i in step_1_rep[1:38]]\n",
    "# Using the method sub ( substitude) from Regex, we substitude all the numbers for a space, the space will be strip late on with the lstrip funtion."
   ]
  },
  {
   "cell_type": "code",
   "execution_count": 73,
   "id": "3cb9a693",
   "metadata": {},
   "outputs": [],
   "source": [
    "countries = [s.rstrip() for s in countries] \n",
    "#Here countries are clean!"
   ]
  },
  {
   "cell_type": "code",
   "execution_count": 74,
   "id": "18b15335",
   "metadata": {
    "scrolled": true
   },
   "outputs": [
    {
     "data": {
      "text/plain": [
       "['State Union Territory',\n",
       " 'Andaman and Nicobar Islands',\n",
       " 'Andhra Pradesh',\n",
       " 'Arunachal Pradesh',\n",
       " 'Assam',\n",
       " 'Bihar',\n",
       " 'Chandigarh',\n",
       " 'Chhattisgarh',\n",
       " 'Dadra and Nagar Haveli',\n",
       " 'Daman and Diu',\n",
       " 'Delhi',\n",
       " 'Goa',\n",
       " 'Gujarat',\n",
       " 'Haryana',\n",
       " 'Himachal Pradesh',\n",
       " 'Jammu and Kashmir',\n",
       " 'Jharkhand',\n",
       " 'Karnataka',\n",
       " 'Kerala',\n",
       " 'Lakshadweep',\n",
       " 'Madhya Pradesh',\n",
       " 'Maharashtra',\n",
       " 'Manipur',\n",
       " 'Meghalaya',\n",
       " 'Mizoram',\n",
       " 'Nagaland',\n",
       " 'Odisha',\n",
       " 'Puducherry',\n",
       " 'Punjab',\n",
       " 'Rajasthan',\n",
       " 'Sikkim',\n",
       " 'Tamil Nadu',\n",
       " 'Tripura',\n",
       " 'Uttar Pradesh',\n",
       " 'Uttarakhand',\n",
       " 'West Bengal',\n",
       " 'ALL INDIA']"
      ]
     },
     "execution_count": 74,
     "metadata": {},
     "output_type": "execute_result"
    }
   ],
   "source": [
    "countries"
   ]
  },
  {
   "cell_type": "code",
   "execution_count": 108,
   "id": "88d883e7",
   "metadata": {},
   "outputs": [],
   "source": [
    "values = [''.join(re.findall(r'[^a-zA-Z\\/]', i)) for i in step_1_rep[1:38]]\n",
    "# Extract the values, and also exclude the '/' character."
   ]
  },
  {
   "cell_type": "code",
   "execution_count": 228,
   "id": "bb552a04",
   "metadata": {},
   "outputs": [],
   "source": [
    "values_1 = [d.replace('-','0')for d in values]\n",
    "# Sustitude '-' for a cero."
   ]
  },
  {
   "cell_type": "code",
   "execution_count": 232,
   "id": "b6d5ab0d",
   "metadata": {},
   "outputs": [],
   "source": [
    "values_2 = [r.lstrip() for r in values_1]\n",
    "# Eliminate the left spaces "
   ]
  },
  {
   "cell_type": "code",
   "execution_count": 237,
   "id": "0617bbc4",
   "metadata": {},
   "outputs": [],
   "source": [
    "values_3 = [re.sub(' ',',',c) for c in values_2]\n",
    "# Substitude the spaces between the numbers with comas"
   ]
  },
  {
   "cell_type": "code",
   "execution_count": 239,
   "id": "825bbed5",
   "metadata": {
    "scrolled": true
   },
   "outputs": [],
   "source": [
    "values_4 = [list(map(int,values_3[c].split(','))) for c in range(len(values_3))]\n",
    "# INCREDIBLYYYYY!!! we remove the single quotes of each list!!!"
   ]
  },
  {
   "cell_type": "code",
   "execution_count": 335,
   "id": "278c14db",
   "metadata": {},
   "outputs": [
    {
     "data": {
      "text/plain": [
       "[31, 64, 115, 189, 281, 356, 381]"
      ]
     },
     "execution_count": 335,
     "metadata": {},
     "output_type": "execute_result"
    }
   ],
   "source": [
    "values_4[1]"
   ]
  },
  {
   "cell_type": "code",
   "execution_count": null,
   "id": "ac040753",
   "metadata": {},
   "outputs": [],
   "source": []
  }
 ],
 "metadata": {
  "kernelspec": {
   "display_name": "ironhack",
   "language": "python",
   "name": "ironhack"
  },
  "language_info": {
   "codemirror_mode": {
    "name": "ipython",
    "version": 3
   },
   "file_extension": ".py",
   "mimetype": "text/x-python",
   "name": "python",
   "nbconvert_exporter": "python",
   "pygments_lexer": "ipython3",
   "version": "3.9.7"
  }
 },
 "nbformat": 4,
 "nbformat_minor": 5
}
